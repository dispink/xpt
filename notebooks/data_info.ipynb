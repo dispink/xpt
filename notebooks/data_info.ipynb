{
 "cells": [
  {
   "cell_type": "markdown",
   "metadata": {},
   "source": [
    "The codes used to build data in this study are in `src/datas/build_data.py`. This notebook is to investigate our data, make sure it is correct and identical to the baseline ([Lee et al., 2022](https://doi.org/10.1038/s41598-022-25377-x))."
   ]
  },
  {
   "cell_type": "code",
   "execution_count": 1,
   "metadata": {},
   "outputs": [],
   "source": [
    "import pandas as pd\n",
    "import numpy as np\n",
    "import glob\n",
    "from src.utils import nwp_cali\n",
    "import matplotlib.pyplot as plt\n",
    "\n",
    "import os\n",
    "cwd = os.getcwd()"
   ]
  },
  {
   "cell_type": "markdown",
   "metadata": {},
   "source": [
    "# XRF spectra\n",
    "\n",
    "The spectra are extracted from `data/legacy/spe_dataset_20220629.csv`. We selected three cores (PS75-056-1, LV28-44-3-n, SO264-69-2) as the test set, which is relevant to the case study in the baseline. The baseline's method describes these three cores as the case study, but the core PS75-056-1 was accidently excluded in the actual calculation of R2 and data distribution. Yet, the confident interval of the baseline models were calcuated by the whole three cores. It is a mistake needs to be corrected. This study keeps the three cores as the test set for all calculation. Then we use the rest of the cores as the training set, which are later randomly split into the (actual) training and validation sets with 4:1 ratio.\n",
    "\n",
    "## Test set"
   ]
  },
  {
   "cell_type": "code",
   "execution_count": 2,
   "metadata": {},
   "outputs": [
    {
     "data": {
      "text/html": [
       "<div>\n",
       "<style scoped>\n",
       "    .dataframe tbody tr th:only-of-type {\n",
       "        vertical-align: middle;\n",
       "    }\n",
       "\n",
       "    .dataframe tbody tr th {\n",
       "        vertical-align: top;\n",
       "    }\n",
       "\n",
       "    .dataframe thead th {\n",
       "        text-align: right;\n",
       "    }\n",
       "</style>\n",
       "<table border=\"1\" class=\"dataframe\">\n",
       "  <thead>\n",
       "    <tr style=\"text-align: right;\">\n",
       "      <th></th>\n",
       "      <th>dirname</th>\n",
       "      <th>composite_id</th>\n",
       "      <th>cps</th>\n",
       "      <th>core</th>\n",
       "      <th>composite_depth_mm</th>\n",
       "      <th>section_depth_mm</th>\n",
       "      <th>filename</th>\n",
       "      <th>section</th>\n",
       "    </tr>\n",
       "  </thead>\n",
       "  <tbody>\n",
       "    <tr>\n",
       "      <th>0</th>\n",
       "      <td>0.csv</td>\n",
       "      <td>PS75-056-1_00005</td>\n",
       "      <td>126814</td>\n",
       "      <td>PS75-056-1</td>\n",
       "      <td>5</td>\n",
       "      <td>5</td>\n",
       "      <td>PS75-056-1_0000    5.0mm  10s  10kV 150uA No-F...</td>\n",
       "      <td>0</td>\n",
       "    </tr>\n",
       "    <tr>\n",
       "      <th>1</th>\n",
       "      <td>1.csv</td>\n",
       "      <td>PS75-056-1_00010</td>\n",
       "      <td>170569</td>\n",
       "      <td>PS75-056-1</td>\n",
       "      <td>10</td>\n",
       "      <td>10</td>\n",
       "      <td>PS75-056-1_0000   10.0mm  10s  10kV 150uA No-F...</td>\n",
       "      <td>0</td>\n",
       "    </tr>\n",
       "    <tr>\n",
       "      <th>2</th>\n",
       "      <td>2.csv</td>\n",
       "      <td>PS75-056-1_00015</td>\n",
       "      <td>175200</td>\n",
       "      <td>PS75-056-1</td>\n",
       "      <td>15</td>\n",
       "      <td>15</td>\n",
       "      <td>PS75-056-1_0000   15.0mm  10s  10kV 150uA No-F...</td>\n",
       "      <td>0</td>\n",
       "    </tr>\n",
       "    <tr>\n",
       "      <th>3</th>\n",
       "      <td>3.csv</td>\n",
       "      <td>PS75-056-1_00020</td>\n",
       "      <td>175607</td>\n",
       "      <td>PS75-056-1</td>\n",
       "      <td>20</td>\n",
       "      <td>20</td>\n",
       "      <td>PS75-056-1_0000   20.0mm  10s  10kV 150uA No-F...</td>\n",
       "      <td>0</td>\n",
       "    </tr>\n",
       "    <tr>\n",
       "      <th>4</th>\n",
       "      <td>4.csv</td>\n",
       "      <td>PS75-056-1_00025</td>\n",
       "      <td>176768</td>\n",
       "      <td>PS75-056-1</td>\n",
       "      <td>25</td>\n",
       "      <td>25</td>\n",
       "      <td>PS75-056-1_0000   25.0mm  10s  10kV 150uA No-F...</td>\n",
       "      <td>0</td>\n",
       "    </tr>\n",
       "    <tr>\n",
       "      <th>...</th>\n",
       "      <td>...</td>\n",
       "      <td>...</td>\n",
       "      <td>...</td>\n",
       "      <td>...</td>\n",
       "      <td>...</td>\n",
       "      <td>...</td>\n",
       "      <td>...</td>\n",
       "      <td>...</td>\n",
       "    </tr>\n",
       "    <tr>\n",
       "      <th>4612</th>\n",
       "      <td>4612.csv</td>\n",
       "      <td>SO264-69-2_18460</td>\n",
       "      <td>109462</td>\n",
       "      <td>SO264-69-2</td>\n",
       "      <td>18460</td>\n",
       "      <td>910</td>\n",
       "      <td>SO264-69-1_017550  910.0mm  10s  10kV 150uA No...</td>\n",
       "      <td>18</td>\n",
       "    </tr>\n",
       "    <tr>\n",
       "      <th>4613</th>\n",
       "      <td>4613.csv</td>\n",
       "      <td>SO264-69-2_18470</td>\n",
       "      <td>108611</td>\n",
       "      <td>SO264-69-2</td>\n",
       "      <td>18470</td>\n",
       "      <td>920</td>\n",
       "      <td>SO264-69-1_017550  920.0mm  10s  10kV 150uA No...</td>\n",
       "      <td>18</td>\n",
       "    </tr>\n",
       "    <tr>\n",
       "      <th>4614</th>\n",
       "      <td>4614.csv</td>\n",
       "      <td>SO264-69-2_18480</td>\n",
       "      <td>111142</td>\n",
       "      <td>SO264-69-2</td>\n",
       "      <td>18480</td>\n",
       "      <td>930</td>\n",
       "      <td>SO264-69-1_017550  930.0mm  10s  10kV 150uA No...</td>\n",
       "      <td>18</td>\n",
       "    </tr>\n",
       "    <tr>\n",
       "      <th>4615</th>\n",
       "      <td>4615.csv</td>\n",
       "      <td>SO264-69-2_18490</td>\n",
       "      <td>109224</td>\n",
       "      <td>SO264-69-2</td>\n",
       "      <td>18490</td>\n",
       "      <td>940</td>\n",
       "      <td>SO264-69-1_017550  940.0mm  10s  10kV 150uA No...</td>\n",
       "      <td>18</td>\n",
       "    </tr>\n",
       "    <tr>\n",
       "      <th>4616</th>\n",
       "      <td>4616.csv</td>\n",
       "      <td>SO264-69-2_18500</td>\n",
       "      <td>105434</td>\n",
       "      <td>SO264-69-2</td>\n",
       "      <td>18500</td>\n",
       "      <td>950</td>\n",
       "      <td>SO264-69-1_017550  950.0mm  10s  10kV 150uA No...</td>\n",
       "      <td>18</td>\n",
       "    </tr>\n",
       "  </tbody>\n",
       "</table>\n",
       "<p>4617 rows × 8 columns</p>\n",
       "</div>"
      ],
      "text/plain": [
       "       dirname      composite_id     cps        core  composite_depth_mm  \\\n",
       "0        0.csv  PS75-056-1_00005  126814  PS75-056-1                   5   \n",
       "1        1.csv  PS75-056-1_00010  170569  PS75-056-1                  10   \n",
       "2        2.csv  PS75-056-1_00015  175200  PS75-056-1                  15   \n",
       "3        3.csv  PS75-056-1_00020  175607  PS75-056-1                  20   \n",
       "4        4.csv  PS75-056-1_00025  176768  PS75-056-1                  25   \n",
       "...        ...               ...     ...         ...                 ...   \n",
       "4612  4612.csv  SO264-69-2_18460  109462  SO264-69-2               18460   \n",
       "4613  4613.csv  SO264-69-2_18470  108611  SO264-69-2               18470   \n",
       "4614  4614.csv  SO264-69-2_18480  111142  SO264-69-2               18480   \n",
       "4615  4615.csv  SO264-69-2_18490  109224  SO264-69-2               18490   \n",
       "4616  4616.csv  SO264-69-2_18500  105434  SO264-69-2               18500   \n",
       "\n",
       "      section_depth_mm                                           filename  \\\n",
       "0                    5  PS75-056-1_0000    5.0mm  10s  10kV 150uA No-F...   \n",
       "1                   10  PS75-056-1_0000   10.0mm  10s  10kV 150uA No-F...   \n",
       "2                   15  PS75-056-1_0000   15.0mm  10s  10kV 150uA No-F...   \n",
       "3                   20  PS75-056-1_0000   20.0mm  10s  10kV 150uA No-F...   \n",
       "4                   25  PS75-056-1_0000   25.0mm  10s  10kV 150uA No-F...   \n",
       "...                ...                                                ...   \n",
       "4612               910  SO264-69-1_017550  910.0mm  10s  10kV 150uA No...   \n",
       "4613               920  SO264-69-1_017550  920.0mm  10s  10kV 150uA No...   \n",
       "4614               930  SO264-69-1_017550  930.0mm  10s  10kV 150uA No...   \n",
       "4615               940  SO264-69-1_017550  940.0mm  10s  10kV 150uA No...   \n",
       "4616               950  SO264-69-1_017550  950.0mm  10s  10kV 150uA No...   \n",
       "\n",
       "      section  \n",
       "0           0  \n",
       "1           0  \n",
       "2           0  \n",
       "3           0  \n",
       "4           0  \n",
       "...       ...  \n",
       "4612       18  \n",
       "4613       18  \n",
       "4614       18  \n",
       "4615       18  \n",
       "4616       18  \n",
       "\n",
       "[4617 rows x 8 columns]"
      ]
     },
     "execution_count": 2,
     "metadata": {},
     "output_type": "execute_result"
    }
   ],
   "source": [
    "test_df = pd.read_csv(f\"{cwd}/data/pretrain/test/info.csv\")\n",
    "spe_dir = glob.glob(f\"{cwd}/data/pretrain/test/spe/*.csv\")\n",
    "test_df"
   ]
  },
  {
   "cell_type": "code",
   "execution_count": 3,
   "metadata": {},
   "outputs": [
    {
     "name": "stdout",
     "output_type": "stream",
     "text": [
      "data amount: 4617\n",
      "spe amount: 4617\n",
      "cores: ['PS75-056-1' 'LV28-44-3-n' 'SO264-69-2']\n"
     ]
    }
   ],
   "source": [
    "print(f\"data amount: {len(test_df)}\")\n",
    "print(f\"spe amount: {len(spe_dir)}\")\n",
    "print(f\"cores: {test_df.core.unique()}\")"
   ]
  },
  {
   "cell_type": "markdown",
   "metadata": {},
   "source": [
    "## Training and validation sets\n",
    "The annotation files under the `train` folder are `info.csv` and `val.csv` for the training and validation sets, respectively. The spectra are all stored in `spe` folder, which will be read by the model according to the annotation files."
   ]
  },
  {
   "cell_type": "code",
   "execution_count": 4,
   "metadata": {},
   "outputs": [
    {
     "data": {
      "text/html": [
       "<div>\n",
       "<style scoped>\n",
       "    .dataframe tbody tr th:only-of-type {\n",
       "        vertical-align: middle;\n",
       "    }\n",
       "\n",
       "    .dataframe tbody tr th {\n",
       "        vertical-align: top;\n",
       "    }\n",
       "\n",
       "    .dataframe thead th {\n",
       "        text-align: right;\n",
       "    }\n",
       "</style>\n",
       "<table border=\"1\" class=\"dataframe\">\n",
       "  <thead>\n",
       "    <tr style=\"text-align: right;\">\n",
       "      <th></th>\n",
       "      <th>dirname</th>\n",
       "      <th>composite_id</th>\n",
       "      <th>cps</th>\n",
       "      <th>core</th>\n",
       "      <th>composite_depth_mm</th>\n",
       "      <th>section_depth_mm</th>\n",
       "      <th>filename</th>\n",
       "      <th>section</th>\n",
       "    </tr>\n",
       "  </thead>\n",
       "  <tbody>\n",
       "    <tr>\n",
       "      <th>0</th>\n",
       "      <td>26791.csv</td>\n",
       "      <td>SO264-56-2_04290</td>\n",
       "      <td>127209</td>\n",
       "      <td>SO264-56-2</td>\n",
       "      <td>4290</td>\n",
       "      <td>630</td>\n",
       "      <td>SO264-56-2_03660  630.0mm  10s  10kV 150uA No-...</td>\n",
       "      <td>4</td>\n",
       "    </tr>\n",
       "    <tr>\n",
       "      <th>1</th>\n",
       "      <td>46603.csv</td>\n",
       "      <td>PS97-083-2_01610</td>\n",
       "      <td>95705</td>\n",
       "      <td>PS97-083-2</td>\n",
       "      <td>1610</td>\n",
       "      <td>510</td>\n",
       "      <td>PS97-083-2_0110  510.0mm  10s  10kV 150uA No-F...</td>\n",
       "      <td>2</td>\n",
       "    </tr>\n",
       "    <tr>\n",
       "      <th>2</th>\n",
       "      <td>5680.csv</td>\n",
       "      <td>SO264-15-2_11600</td>\n",
       "      <td>182204</td>\n",
       "      <td>SO264-15-2</td>\n",
       "      <td>11600</td>\n",
       "      <td>120</td>\n",
       "      <td>SO264-15-2_1148  120.0mm  10s  10kV 150uA No-F...</td>\n",
       "      <td>11</td>\n",
       "    </tr>\n",
       "    <tr>\n",
       "      <th>3</th>\n",
       "      <td>30871.csv</td>\n",
       "      <td>SO264-64-1_07700</td>\n",
       "      <td>95539</td>\n",
       "      <td>SO264-64-1</td>\n",
       "      <td>7700</td>\n",
       "      <td>180</td>\n",
       "      <td>SO264-64-1_07520  180.0mm  10s  10kV 150uA No-...</td>\n",
       "      <td>8</td>\n",
       "    </tr>\n",
       "    <tr>\n",
       "      <th>4</th>\n",
       "      <td>12141.csv</td>\n",
       "      <td>SO264-26-2_02740</td>\n",
       "      <td>126230</td>\n",
       "      <td>SO264-26-2</td>\n",
       "      <td>2740</td>\n",
       "      <td>320</td>\n",
       "      <td>SO264-26-2_02420  320.0mm  10s  10kV 150uA No-...</td>\n",
       "      <td>3</td>\n",
       "    </tr>\n",
       "    <tr>\n",
       "      <th>...</th>\n",
       "      <td>...</td>\n",
       "      <td>...</td>\n",
       "      <td>...</td>\n",
       "      <td>...</td>\n",
       "      <td>...</td>\n",
       "      <td>...</td>\n",
       "      <td>...</td>\n",
       "      <td>...</td>\n",
       "    </tr>\n",
       "    <tr>\n",
       "      <th>44163</th>\n",
       "      <td>45866.csv</td>\n",
       "      <td>PS97-079-2_04420</td>\n",
       "      <td>112195</td>\n",
       "      <td>PS97-079-2</td>\n",
       "      <td>4420</td>\n",
       "      <td>140</td>\n",
       "      <td>PS97-79-2_0428  140.0mm  10s  10kV 150uA No-Fi...</td>\n",
       "      <td>3</td>\n",
       "    </tr>\n",
       "    <tr>\n",
       "      <th>44164</th>\n",
       "      <td>46782.csv</td>\n",
       "      <td>PS97-083-2_03400</td>\n",
       "      <td>94120</td>\n",
       "      <td>PS97-083-2</td>\n",
       "      <td>3400</td>\n",
       "      <td>320</td>\n",
       "      <td>PS97-083-2_0308  320.0mm  10s  10kV 150uA No-F...</td>\n",
       "      <td>4</td>\n",
       "    </tr>\n",
       "    <tr>\n",
       "      <th>44165</th>\n",
       "      <td>1137.csv</td>\n",
       "      <td>SO264-09-2_11390</td>\n",
       "      <td>168316</td>\n",
       "      <td>SO264-09-2</td>\n",
       "      <td>11390</td>\n",
       "      <td>700</td>\n",
       "      <td>SO264-09-2_1069  700.0mm  10s  10kV 150uA No-F...</td>\n",
       "      <td>11</td>\n",
       "    </tr>\n",
       "    <tr>\n",
       "      <th>44166</th>\n",
       "      <td>12950.csv</td>\n",
       "      <td>SO264-26-2_10850</td>\n",
       "      <td>154762</td>\n",
       "      <td>SO264-26-2</td>\n",
       "      <td>10850</td>\n",
       "      <td>410</td>\n",
       "      <td>SO264-26-02_10440  410.0mm  10s  10kV 150uA No...</td>\n",
       "      <td>11</td>\n",
       "    </tr>\n",
       "    <tr>\n",
       "      <th>44167</th>\n",
       "      <td>18446.csv</td>\n",
       "      <td>SO264-45-2_00650</td>\n",
       "      <td>106041</td>\n",
       "      <td>SO264-45-2</td>\n",
       "      <td>650</td>\n",
       "      <td>290</td>\n",
       "      <td>SO264-45-2_00360  290.0mm  10s  10kV 150uA No-...</td>\n",
       "      <td>1</td>\n",
       "    </tr>\n",
       "  </tbody>\n",
       "</table>\n",
       "<p>44168 rows × 8 columns</p>\n",
       "</div>"
      ],
      "text/plain": [
       "         dirname      composite_id     cps        core  composite_depth_mm  \\\n",
       "0      26791.csv  SO264-56-2_04290  127209  SO264-56-2                4290   \n",
       "1      46603.csv  PS97-083-2_01610   95705  PS97-083-2                1610   \n",
       "2       5680.csv  SO264-15-2_11600  182204  SO264-15-2               11600   \n",
       "3      30871.csv  SO264-64-1_07700   95539  SO264-64-1                7700   \n",
       "4      12141.csv  SO264-26-2_02740  126230  SO264-26-2                2740   \n",
       "...          ...               ...     ...         ...                 ...   \n",
       "44163  45866.csv  PS97-079-2_04420  112195  PS97-079-2                4420   \n",
       "44164  46782.csv  PS97-083-2_03400   94120  PS97-083-2                3400   \n",
       "44165   1137.csv  SO264-09-2_11390  168316  SO264-09-2               11390   \n",
       "44166  12950.csv  SO264-26-2_10850  154762  SO264-26-2               10850   \n",
       "44167  18446.csv  SO264-45-2_00650  106041  SO264-45-2                 650   \n",
       "\n",
       "       section_depth_mm                                           filename  \\\n",
       "0                   630  SO264-56-2_03660  630.0mm  10s  10kV 150uA No-...   \n",
       "1                   510  PS97-083-2_0110  510.0mm  10s  10kV 150uA No-F...   \n",
       "2                   120  SO264-15-2_1148  120.0mm  10s  10kV 150uA No-F...   \n",
       "3                   180  SO264-64-1_07520  180.0mm  10s  10kV 150uA No-...   \n",
       "4                   320  SO264-26-2_02420  320.0mm  10s  10kV 150uA No-...   \n",
       "...                 ...                                                ...   \n",
       "44163               140  PS97-79-2_0428  140.0mm  10s  10kV 150uA No-Fi...   \n",
       "44164               320  PS97-083-2_0308  320.0mm  10s  10kV 150uA No-F...   \n",
       "44165               700  SO264-09-2_1069  700.0mm  10s  10kV 150uA No-F...   \n",
       "44166               410  SO264-26-02_10440  410.0mm  10s  10kV 150uA No...   \n",
       "44167               290  SO264-45-2_00360  290.0mm  10s  10kV 150uA No-...   \n",
       "\n",
       "       section  \n",
       "0            4  \n",
       "1            2  \n",
       "2           11  \n",
       "3            8  \n",
       "4            3  \n",
       "...        ...  \n",
       "44163        3  \n",
       "44164        4  \n",
       "44165       11  \n",
       "44166       11  \n",
       "44167        1  \n",
       "\n",
       "[44168 rows x 8 columns]"
      ]
     },
     "execution_count": 4,
     "metadata": {},
     "output_type": "execute_result"
    }
   ],
   "source": [
    "train_df = pd.read_csv(f\"{cwd}/data/pretrain/train/info.csv\")\n",
    "validation_df = pd.read_csv(f\"{cwd}/data/pretrain/train/val.csv\")\n",
    "spe_dir = glob.glob(f\"{cwd}/data/pretrain/train/spe/*.csv\")\n",
    "train_df"
   ]
  },
  {
   "cell_type": "code",
   "execution_count": 5,
   "metadata": {},
   "outputs": [
    {
     "name": "stdout",
     "output_type": "stream",
     "text": [
      "train and validation sets\n",
      "data amount: 55211\n",
      "spe amount: 55211\n",
      "core amount: 116\n",
      "cores: ['SO264-56-2' 'PS97-083-2' 'SO264-15-2' 'SO264-64-1' 'SO264-26-2'\n",
      " 'SO178-12-3' 'SO264-62-2' 'SO264-14-1' 'SO264-45-2' 'SO264-47-2'\n",
      " 'PS75-093-1' 'SO264-32-2' 'SO264-55-1' 'PS97-085-3' 'PS97-093-2'\n",
      " 'PS97-079-2' 'SO264-28-2' 'LV28-44-3' 'SO264-51-2' 'SO264-44-3'\n",
      " 'SO264-13-2' 'SO264-22-2' 'PS97-089-1' 'PS75-054-1' 'SO264-41-2'\n",
      " 'SO264-19-2' 'SO264-16-2' 'SO264-24-3' 'SO264-60-12' 'SO264-09-2'\n",
      " 'PS97-084-1' 'PS75-095-5' 'PS97-092-1' 'SO264-52-2' 'LV29-114-3'\n",
      " 'PS75-083-1' 'SO264-70-1' 'PS97-085-3_TC' 'SO264-66-2' 'SO264-53-2'\n",
      " 'SO264-44-2' 'SO264-54-2' 'PS97-027-2' 'SO264-76-1' 'SO264-46-5'\n",
      " 'SO264-49-2' 'PS97-084-1_TC' 'SO264-34-2' 'SO202-37-2_re' 'PS97-089-1_TC'\n",
      " 'PS97-080-1' 'PS97-128-2' 'PS97-078-1' 'PS97-052-4' 'PS97-053-2'\n",
      " 'PS97-046-4' 'PS75-093-1_TC' 'PS75-083-1_TC' 'SO264-76-1' 'SO264-54-2'\n",
      " 'PS97-052-4' 'SO264-19-2' 'SO178-12-3' 'SO264-14-1' 'SO264-64-1'\n",
      " 'SO264-55-1' 'SO264-56-2' 'LV28-44-3' 'SO264-16-2' 'PS97-080-1'\n",
      " 'PS75-083-1' 'SO264-62-2' 'SO264-26-2' 'PS97-093-2' 'PS75-054-1'\n",
      " 'SO264-45-2' 'SO264-22-2' 'SO264-52-2' 'SO264-24-3' 'PS75-093-1'\n",
      " 'PS97-092-1' 'PS97-084-1' 'SO264-70-1' 'SO264-09-2' 'PS97-085-3'\n",
      " 'SO264-49-2' 'SO264-60-12' 'SO264-66-2' 'SO264-32-2' 'SO264-44-3'\n",
      " 'PS97-053-2' 'SO264-47-2' 'SO264-41-2' 'PS97-079-2' 'SO264-51-2'\n",
      " 'PS75-095-5' 'SO264-15-2' 'PS97-089-1' 'SO264-28-2' 'SO264-13-2'\n",
      " 'PS97-089-1_TC' 'PS97-083-2' 'SO264-53-2' 'PS97-078-1' 'SO264-46-5'\n",
      " 'LV29-114-3' 'SO264-34-2' 'PS97-027-2' 'PS97-046-4' 'PS97-128-2'\n",
      " 'SO264-44-2' 'PS75-093-1_TC' 'SO202-37-2_re' 'PS97-084-1_TC'\n",
      " 'PS97-085-3_TC' 'PS75-083-1_TC']\n"
     ]
    }
   ],
   "source": [
    "cores = np.hstack([train_df.core.unique(), validation_df.core.unique()])\n",
    "\n",
    "print(\"train and validation sets\")\n",
    "print(f\"data amount: {len(train_df)+len(validation_df)}\")\n",
    "print(f\"spe amount: {len(spe_dir)}\")\n",
    "\n",
    "print(f\"core amount: {len(cores)}\")\n",
    "print(f\"cores: {cores}\")"
   ]
  },
  {
   "cell_type": "markdown",
   "metadata": {},
   "source": [
    "# Downstream tasks\n",
    "The tasks are predicting CaCO3 and TOC content from XRF spectra. The test set uses the same test cores as the XRF spectra, which is relevent to the case study in the baseline. The paired XRF and targets are extracted from `data/legacy/spe+bulk_dataset_20220629.csv`.The training and validation sets use the cores listed in the \"CHOSEN\" sheet in `data/legacy/ML station list.xlsx`, instead of the whole rest cores. This is the same as the training and test sets in the baseline. The data from these cores are then randomly split into training and validation sets with 4:1 ratio. "
   ]
  },
  {
   "cell_type": "code",
   "execution_count": 6,
   "metadata": {},
   "outputs": [],
   "source": [
    "def read_files(target, subset, test: bool):\n",
    "    info_df = pd.read_csv(f\"{cwd}/data/finetune/{target}/{subset}/info.csv\")\n",
    "    target_dir = glob.glob(f\"{cwd}/data/finetune/{target}/{subset}/target/*.csv\")\n",
    "    spe_dir = glob.glob(f\"{cwd}/data/finetune/{target}/{subset}/spe/*.csv\")\n",
    "\n",
    "    print(info_df)\n",
    "    \n",
    "    if test:\n",
    "        return info_df, target_dir, spe_dir\n",
    "    else:\n",
    "        validation_df = pd.read_csv(f\"{cwd}/data/finetune/{target}/{subset}/val.csv\")\n",
    "        return info_df, validation_df, target_dir, spe_dir"
   ]
  },
  {
   "cell_type": "markdown",
   "metadata": {},
   "source": [
    "## CaCO3\n",
    "### Test set"
   ]
  },
  {
   "cell_type": "code",
   "execution_count": 7,
   "metadata": {},
   "outputs": [
    {
     "name": "stdout",
     "output_type": "stream",
     "text": [
      "     dirname         core  mid_depth_mm\n",
      "0      0.csv   PS75-056-1          15.0\n",
      "1      1.csv   PS75-056-1          55.0\n",
      "2      2.csv   PS75-056-1         155.0\n",
      "3      3.csv   PS75-056-1         255.0\n",
      "4      4.csv   PS75-056-1         355.0\n",
      "..       ...          ...           ...\n",
      "389  389.csv  LV28-44-3-n       10875.0\n",
      "390  390.csv  LV28-44-3-n       10925.0\n",
      "391  391.csv  LV28-44-3-n       10975.0\n",
      "392  392.csv  LV28-44-3-n       11025.0\n",
      "393  393.csv  LV28-44-3-n       11075.0\n",
      "\n",
      "[394 rows x 3 columns]\n"
     ]
    }
   ],
   "source": [
    "target = \"CaCO3%\"\n",
    "subset = \"test\"\n",
    "info_df, target_dir, spe_dir = read_files(target, subset, test=True)"
   ]
  },
  {
   "cell_type": "code",
   "execution_count": 8,
   "metadata": {},
   "outputs": [],
   "source": [
    "# use the baseline codes to subset data\n",
    "test_cores = [\"PS75-056-1\", \"LV28-44-3-n\", \"SO264-69-2\"]\n",
    "prepare = nwp_cali.PrepareData(\n",
    "    measurement=target, \n",
    "    data_dir=f\"{cwd}/data/legacy/spe+bulk_dataset_20220629.csv\", \n",
    "    select_dir=f\"{cwd}/data/legacy/ML station list.xlsx\")\n",
    "\n",
    "# note: its select_casestudy()\n",
    "data_df = prepare.select_casestudy(case_cores = test_cores)\n",
    "X, y = prepare.produce_Xy(data_df)"
   ]
  },
  {
   "cell_type": "code",
   "execution_count": 9,
   "metadata": {},
   "outputs": [
    {
     "name": "stdout",
     "output_type": "stream",
     "text": [
      "data amount in annotation file: 394\n",
      "actual data amount: 394\n",
      "actual spe amount: 394\n",
      "cores: ['PS75-056-1' 'SO264-69-2' 'LV28-44-3-n']\n",
      "data amount using baseline codes: 394\n"
     ]
    }
   ],
   "source": [
    "print(f\"data amount in annotation file: {len(info_df)}\")\n",
    "print(f\"actual data amount: {len(target_dir)}\")\n",
    "print(f\"actual spe amount: {len(spe_dir)}\")\n",
    "print(f\"cores: {info_df.core.unique()}\")\n",
    "\n",
    "print(f\"data amount using baseline codes: {len(y)}\")"
   ]
  },
  {
   "cell_type": "markdown",
   "metadata": {},
   "source": [
    "The data amounts in the annotation file, actual target folder, actual spe folder and the extration by the baseline codes are all the same.\n",
    "\n",
    "Let's check if the data are identical."
   ]
  },
  {
   "cell_type": "code",
   "execution_count": 10,
   "metadata": {},
   "outputs": [],
   "source": [
    "y_new = []\n",
    "\n",
    "for csv in info_df.dirname:\n",
    "    measurement = np.loadtxt(f\"{cwd}/data/finetune/{target}/{subset}/target/{csv}\", delimiter=\",\", dtype=float)\n",
    "    y_new.append(measurement)\n",
    "\n",
    "y_new = np.array(y)"
   ]
  },
  {
   "cell_type": "code",
   "execution_count": 11,
   "metadata": {},
   "outputs": [
    {
     "data": {
      "image/png": "[encoded data removed]",
      "text/plain": [
       "<Figure size 640x480 with 1 Axes>"
      ]
     },
     "metadata": {},
     "output_type": "display_data"
    }
   ],
   "source": [
    "plt.hist(y, bins=25, alpha=0.5, label='baseline')\n",
    "plt.hist(y_new, bins=25, alpha=0.5, label='our data')\n",
    "plt.legend();"
   ]
  },
  {
   "cell_type": "code",
   "execution_count": 12,
   "metadata": {},
   "outputs": [
    {
     "data": {
      "text/plain": [
       "0.0"
      ]
     },
     "execution_count": 12,
     "metadata": {},
     "output_type": "execute_result"
    }
   ],
   "source": [
    "(np.sort(y) - np.sort(y_new)).sum()"
   ]
  },
  {
   "cell_type": "markdown",
   "metadata": {},
   "source": [
    "They are identical. \n",
    "\n",
    "### Training and validation sets"
   ]
  },
  {
   "cell_type": "code",
   "execution_count": 13,
   "metadata": {},
   "outputs": [
    {
     "name": "stdout",
     "output_type": "stream",
     "text": [
      "       dirname        core  mid_depth_mm\n",
      "0     1642.csv  PS75-093-1        7505.0\n",
      "1     1306.csv  PS75-054-1        3405.0\n",
      "2     1305.csv  PS75-054-1        3305.0\n",
      "3     1512.csv  PS75-083-1        1705.0\n",
      "4      616.csv  PS97-080-1         505.0\n",
      "...        ...         ...           ...\n",
      "1483  1425.csv  PS75-054-1       15305.0\n",
      "1484   343.csv  SO264-13-2         125.0\n",
      "1485   192.csv  SO264-55-1        4645.0\n",
      "1486   899.csv  PS97-085-3       12005.0\n",
      "1487   418.csv  LV29-114-3        2205.0\n",
      "\n",
      "[1488 rows x 3 columns]\n"
     ]
    }
   ],
   "source": [
    "target = \"CaCO3%\"\n",
    "subset = \"train\"\n",
    "info_df, validation_df, target_dir, spe_dir = read_files(target, subset, test=False)"
   ]
  },
  {
   "cell_type": "code",
   "execution_count": 14,
   "metadata": {},
   "outputs": [],
   "source": [
    "# use the baseline codes to subset data\n",
    "prepare = nwp_cali.PrepareData(\n",
    "    measurement=target, \n",
    "    data_dir=f\"{cwd}/data/legacy/spe+bulk_dataset_20220629.csv\", \n",
    "    select_dir=f\"{cwd}/data/legacy/ML station list.xlsx\")\n",
    "\n",
    "# note: its select_data()\n",
    "data_df = prepare.select_data()\n",
    "X, y = prepare.produce_Xy(data_df)"
   ]
  },
  {
   "cell_type": "code",
   "execution_count": 15,
   "metadata": {},
   "outputs": [
    {
     "name": "stdout",
     "output_type": "stream",
     "text": [
      "data amount in annotation file: 1860\n",
      "actual data amount: 1860\n",
      "actual spe amount: 1860\n",
      "cores: ['PS75-093-1' 'PS75-054-1' 'PS75-083-1' 'PS97-080-1' 'SO264-28-2'\n",
      " 'PS97-093-2' 'PS97-079-2' 'SO264-55-1' 'SO264-56-2' 'PS75-095-5'\n",
      " 'PS97-084-1' 'PS97-085-3' 'PS97-078-1' 'SO264-64-1' 'LV29-114-3'\n",
      " 'PS97-092-1' 'SO264-15-2' 'PS97-083-2' 'PS97-089-1' 'PS97-052-4'\n",
      " 'SO264-13-2' 'SO264-66-2' 'PS97-053-2' 'PS97-046-4' 'PS97-027-2'\n",
      " 'PS97-128-2']\n",
      "data amount using baseline codes: 1860\n"
     ]
    }
   ],
   "source": [
    "print(f\"data amount in annotation file: {len(info_df)+len(validation_df)}\")\n",
    "print(f\"actual data amount: {len(target_dir)}\")\n",
    "print(f\"actual spe amount: {len(spe_dir)}\")\n",
    "print(f\"cores: {info_df.core.unique()}\")\n",
    "\n",
    "print(f\"data amount using baseline codes: {len(y)}\")"
   ]
  },
  {
   "cell_type": "markdown",
   "metadata": {},
   "source": [
    "The data amounts in the annotation file, actual target folder, actual spe folder and the extration by the baseline codes are all the same.\n",
    "\n",
    "Let's check if the data are identical."
   ]
  },
  {
   "cell_type": "code",
   "execution_count": 16,
   "metadata": {},
   "outputs": [],
   "source": [
    "y_train_new = []\n",
    "y_val_new = []\n",
    "\n",
    "for csv in info_df.dirname:\n",
    "    measurement = np.loadtxt(f\"{cwd}/data/finetune/{target}/{subset}/target/{csv}\", delimiter=\",\", dtype=float)\n",
    "    y_train_new.append(measurement)\n",
    "\n",
    "for csv in validation_df.dirname:\n",
    "    measurement = np.loadtxt(f\"{cwd}/data/finetune/{target}/{subset}/target/{csv}\", delimiter=\",\", dtype=float)\n",
    "    y_val_new.append(measurement)\n",
    "\n",
    "y_train_new = np.array(y_train_new)\n",
    "y_val_new = np.array(y_val_new)"
   ]
  },
  {
   "cell_type": "code",
   "execution_count": 17,
   "metadata": {},
   "outputs": [],
   "source": [
    "from sklearn.model_selection import train_test_split\n",
    "y_train, y_val = train_test_split(y, test_size = 0.2, shuffle = True, random_state = 24)\n"
   ]
  },
  {
   "cell_type": "code",
   "execution_count": 18,
   "metadata": {},
   "outputs": [
    {
     "data": {
      "image/png": "[encoded data removed]",
      "text/plain": [
       "<Figure size 1200x500 with 2 Axes>"
      ]
     },
     "metadata": {},
     "output_type": "display_data"
    }
   ],
   "source": [
    "fig, axes = plt.subplots(1, 2, figsize=(12, 5))\n",
    "axes[0].set_title(\"train\")\n",
    "axes[0].hist(y_train, bins=25, alpha=0.5, label='baseline')\n",
    "axes[0].hist(y_train_new, bins=25, alpha=0.5, label='our data')\n",
    "\n",
    "axes[1].set_title(\"validation\")\n",
    "axes[1].hist(y_val, bins=25, alpha=0.5, label='baseline')\n",
    "axes[1].hist(y_val_new, bins=25, alpha=0.5, label='our data')\n",
    "plt.legend();"
   ]
  },
  {
   "cell_type": "code",
   "execution_count": 19,
   "metadata": {},
   "outputs": [
    {
     "name": "stdout",
     "output_type": "stream",
     "text": [
      "0.0\n",
      "0.0\n"
     ]
    }
   ],
   "source": [
    "print((np.sort(y_train) - np.sort(y_train_new)).sum())\n",
    "print((np.sort(y_val) - np.sort(y_val_new)).sum())"
   ]
  },
  {
   "cell_type": "markdown",
   "metadata": {},
   "source": [
    "They are identical.\n",
    "\n",
    "## TOC\n",
    "### Test set"
   ]
  },
  {
   "cell_type": "code",
   "execution_count": 20,
   "metadata": {},
   "outputs": [
    {
     "name": "stdout",
     "output_type": "stream",
     "text": [
      "     dirname         core  mid_depth_mm\n",
      "0      0.csv   PS75-056-1          15.0\n",
      "1      1.csv   PS75-056-1          55.0\n",
      "2      2.csv   PS75-056-1         155.0\n",
      "3      3.csv   PS75-056-1         255.0\n",
      "4      4.csv   PS75-056-1         355.0\n",
      "..       ...          ...           ...\n",
      "391  391.csv  LV28-44-3-n       10875.0\n",
      "392  392.csv  LV28-44-3-n       10925.0\n",
      "393  393.csv  LV28-44-3-n       10975.0\n",
      "394  394.csv  LV28-44-3-n       11025.0\n",
      "395  395.csv  LV28-44-3-n       11075.0\n",
      "\n",
      "[396 rows x 3 columns]\n"
     ]
    }
   ],
   "source": [
    "target = \"TOC%\"\n",
    "subset = \"test\"\n",
    "info_df, target_dir, spe_dir = read_files(target, subset, test=True)"
   ]
  },
  {
   "cell_type": "code",
   "execution_count": 21,
   "metadata": {},
   "outputs": [],
   "source": [
    "# use the baseline codes to subset data\n",
    "test_cores = [\"PS75-056-1\", \"LV28-44-3-n\", \"SO264-69-2\"]\n",
    "prepare = nwp_cali.PrepareData(\n",
    "    measurement=target, \n",
    "    data_dir=f\"{cwd}/data/legacy/spe+bulk_dataset_20220629.csv\", \n",
    "    select_dir=f\"{cwd}/data/legacy/ML station list.xlsx\")\n",
    "\n",
    "# note: its select_casestudy()\n",
    "data_df = prepare.select_casestudy(case_cores = test_cores)\n",
    "X, y = prepare.produce_Xy(data_df)"
   ]
  },
  {
   "cell_type": "code",
   "execution_count": 22,
   "metadata": {},
   "outputs": [
    {
     "name": "stdout",
     "output_type": "stream",
     "text": [
      "data amount in annotation file: 396\n",
      "actual data amount: 396\n",
      "actual spe amount: 396\n",
      "cores: ['PS75-056-1' 'SO264-69-2' 'LV28-44-3-n']\n",
      "data amount using baseline codes: 396\n"
     ]
    }
   ],
   "source": [
    "print(f\"data amount in annotation file: {len(info_df)}\")\n",
    "print(f\"actual data amount: {len(target_dir)}\")\n",
    "print(f\"actual spe amount: {len(spe_dir)}\")\n",
    "print(f\"cores: {info_df.core.unique()}\")\n",
    "\n",
    "print(f\"data amount using baseline codes: {len(y)}\")"
   ]
  },
  {
   "cell_type": "markdown",
   "metadata": {},
   "source": [
    "The data amounts in the annotation file, actual target folder, actual spe folder and the extration by the baseline codes are all the same.\n",
    "\n",
    "Let's check if the data are identical."
   ]
  },
  {
   "cell_type": "code",
   "execution_count": 23,
   "metadata": {},
   "outputs": [],
   "source": [
    "y_new = []\n",
    "\n",
    "for csv in info_df.dirname:\n",
    "    measurement = np.loadtxt(f\"{cwd}/data/finetune/{target}/{subset}/target/{csv}\", delimiter=\",\", dtype=float)\n",
    "    y_new.append(measurement)\n",
    "\n",
    "y_new = np.array(y)"
   ]
  },
  {
   "cell_type": "code",
   "execution_count": 24,
   "metadata": {},
   "outputs": [
    {
     "data": {
      "image/png": "[encoded data removed]",
      "text/plain": [
       "<Figure size 640x480 with 1 Axes>"
      ]
     },
     "metadata": {},
     "output_type": "display_data"
    }
   ],
   "source": [
    "plt.hist(y, bins=25, alpha=0.5, label='baseline')\n",
    "plt.hist(y_new, bins=25, alpha=0.5, label='our data')\n",
    "plt.legend();"
   ]
  },
  {
   "cell_type": "code",
   "execution_count": 25,
   "metadata": {},
   "outputs": [
    {
     "data": {
      "text/plain": [
       "0.0"
      ]
     },
     "execution_count": 25,
     "metadata": {},
     "output_type": "execute_result"
    }
   ],
   "source": [
    "(np.sort(y) - np.sort(y_new)).sum()"
   ]
  },
  {
   "cell_type": "markdown",
   "metadata": {},
   "source": [
    "They are identical.\n",
    "\n",
    "### Training and validation sets"
   ]
  },
  {
   "cell_type": "code",
   "execution_count": 26,
   "metadata": {},
   "outputs": [
    {
     "name": "stdout",
     "output_type": "stream",
     "text": [
      "       dirname        core  mid_depth_mm\n",
      "0      102.csv  SO264-56-2        8555.0\n",
      "1      928.csv  PS97-085-3       11705.0\n",
      "2     1570.csv  PS75-083-1        3705.0\n",
      "3      861.csv  PS97-085-3        5005.0\n",
      "4     1158.csv  PS97-093-2        2805.0\n",
      "...        ...         ...           ...\n",
      "1568  1425.csv  PS75-054-1       11605.0\n",
      "1569   343.csv  SO264-13-2         125.0\n",
      "1570   192.csv  SO264-55-1        4645.0\n",
      "1571   899.csv  PS97-085-3        8805.0\n",
      "1572   418.csv  LV29-114-3        2205.0\n",
      "\n",
      "[1573 rows x 3 columns]\n"
     ]
    }
   ],
   "source": [
    "target = \"TOC%\"\n",
    "subset = \"train\"\n",
    "info_df, validation_df, target_dir, spe_dir = read_files(target, subset, test=False)"
   ]
  },
  {
   "cell_type": "code",
   "execution_count": 27,
   "metadata": {},
   "outputs": [],
   "source": [
    "# use the baseline codes to subset data\n",
    "prepare = nwp_cali.PrepareData(\n",
    "    measurement=target, \n",
    "    data_dir=f\"{cwd}/data/legacy/spe+bulk_dataset_20220629.csv\", \n",
    "    select_dir=f\"{cwd}/data/legacy/ML station list.xlsx\")\n",
    "\n",
    "# note: its select_data()\n",
    "data_df = prepare.select_data()\n",
    "X, y = prepare.produce_Xy(data_df)"
   ]
  },
  {
   "cell_type": "code",
   "execution_count": 28,
   "metadata": {},
   "outputs": [
    {
     "name": "stdout",
     "output_type": "stream",
     "text": [
      "data amount in annotation file: 1967\n",
      "actual data amount: 1967\n",
      "actual spe amount: 1967\n",
      "cores: ['SO264-56-2' 'PS97-085-3' 'PS75-083-1' 'PS97-093-2' 'PS75-093-1'\n",
      " 'SO178-12-3' 'PS75-095-5' 'PS75-054-1' 'LV29-114-3' 'PS97-092-1'\n",
      " 'SO264-66-2' 'PS97-079-2' 'SO264-28-2' 'PS97-089-1' 'PS97-027-2'\n",
      " 'PS97-052-4' 'SO264-55-1' 'PS97-053-2' 'PS97-084-1' 'SO264-13-2'\n",
      " 'SO264-15-2' 'PS97-083-2' 'SO264-64-1' 'PS97-078-1' 'PS97-128-2'\n",
      " 'PS97-080-1' 'PS97-046-4']\n",
      "data amount using baseline codes: 1967\n"
     ]
    }
   ],
   "source": [
    "print(f\"data amount in annotation file: {len(info_df)+len(validation_df)}\")\n",
    "print(f\"actual data amount: {len(target_dir)}\")\n",
    "print(f\"actual spe amount: {len(spe_dir)}\")\n",
    "print(f\"cores: {info_df.core.unique()}\")\n",
    "\n",
    "print(f\"data amount using baseline codes: {len(y)}\")"
   ]
  },
  {
   "cell_type": "markdown",
   "metadata": {},
   "source": [
    "The data amounts in the annotation file, actual target folder, actual spe folder and the extration by the baseline codes are all the same.\n",
    "\n",
    "Let's check if the data are identical."
   ]
  },
  {
   "cell_type": "code",
   "execution_count": 29,
   "metadata": {},
   "outputs": [],
   "source": [
    "y_train_new = []\n",
    "y_val_new = []\n",
    "\n",
    "for csv in info_df.dirname:\n",
    "    measurement = np.loadtxt(f\"{cwd}/data/finetune/{target}/{subset}/target/{csv}\", delimiter=\",\", dtype=float)\n",
    "    y_train_new.append(measurement)\n",
    "\n",
    "for csv in validation_df.dirname:\n",
    "    measurement = np.loadtxt(f\"{cwd}/data/finetune/{target}/{subset}/target/{csv}\", delimiter=\",\", dtype=float)\n",
    "    y_val_new.append(measurement)\n",
    "\n",
    "y_train_new = np.array(y_train_new)\n",
    "y_val_new = np.array(y_val_new)"
   ]
  },
  {
   "cell_type": "code",
   "execution_count": 30,
   "metadata": {},
   "outputs": [],
   "source": [
    "from sklearn.model_selection import train_test_split\n",
    "y_train, y_val = train_test_split(y, test_size = 0.2, shuffle = True, random_state = 24)\n"
   ]
  },
  {
   "cell_type": "code",
   "execution_count": 31,
   "metadata": {},
   "outputs": [
    {
     "data": {
      "image/png": "[encoded data removed]",
      "text/plain": [
       "<Figure size 1200x500 with 2 Axes>"
      ]
     },
     "metadata": {},
     "output_type": "display_data"
    }
   ],
   "source": [
    "fig, axes = plt.subplots(1, 2, figsize=(12, 5))\n",
    "axes[0].set_title(\"train\")\n",
    "axes[0].hist(y_train, bins=25, alpha=0.5, label='baseline')\n",
    "axes[0].hist(y_train_new, bins=25, alpha=0.5, label='our data')\n",
    "\n",
    "axes[1].set_title(\"validation\")\n",
    "axes[1].hist(y_val, bins=25, alpha=0.5, label='baseline')\n",
    "axes[1].hist(y_val_new, bins=25, alpha=0.5, label='our data')\n",
    "plt.legend();"
   ]
  },
  {
   "cell_type": "code",
   "execution_count": 32,
   "metadata": {},
   "outputs": [
    {
     "name": "stdout",
     "output_type": "stream",
     "text": [
      "0.0\n",
      "0.0\n"
     ]
    }
   ],
   "source": [
    "print((np.sort(y_train) - np.sort(y_train_new)).sum())\n",
    "print((np.sort(y_val) - np.sort(y_val_new)).sum())"
   ]
  },
  {
   "cell_type": "markdown",
   "metadata": {},
   "source": [
    "They are identical.\n",
    "\n",
    "# Conclusion\n",
    "The finetune data (training, validation, test) are all identical to the data using the baseline codes to split. The XRF spectra don't need to be compare to the baseline because the baseline doesn't have this pre-train process. But we robustly keep the test set cores same as in the finetune data to avoid any data-snooping issue. "
   ]
  }
 ],
 "metadata": {
  "kernelspec": {
   "display_name": "Python 3",
   "language": "python",
   "name": "python3"
  },
  "language_info": {
   "codemirror_mode": {
    "name": "ipython",
    "version": 3
   },
   "file_extension": ".py",
   "mimetype": "text/x-python",
   "name": "python",
   "nbconvert_exporter": "python",
   "pygments_lexer": "ipython3",
   "version": "3.11.9"
  }
 },
 "nbformat": 4,
 "nbformat_minor": 2
}

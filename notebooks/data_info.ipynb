{
 "cells": [
  {
   "cell_type": "markdown",
   "metadata": {},
   "source": [
    "The codes used to build data in this study are in `src/datas/build_data.py`. This notebook is to investigate our data, make sure it is correct and identical to the baseline ([Lee et al., 2022](https://doi.org/10.1038/s41598-022-25377-x))."
   ]
  },
  {
   "cell_type": "code",
   "execution_count": 1,
   "metadata": {},
   "outputs": [],
   "source": [
    "import pandas as pd\n",
    "import numpy as np\n",
    "import glob\n",
    "from src.utils import nwp_cali\n",
    "\n",
    "import os\n",
    "cwd = os.getcwd()"
   ]
  },
  {
   "cell_type": "markdown",
   "metadata": {},
   "source": [
    "# XRF spectra\n",
    "\n",
    "The spectra are extracted from `data/legacy/spe_dataset_20220629.csv`. We selected three cores (PS75-056-1, LV28-44-3-n, SO264-69-2) as the test set, which is relevant to the case study in the baseline. The baseline's method describes these three cores as the case study, but the core PS75-056-1 was accidently excluded in the actual calculation of R2 and data distribution. Yet, the confident interval of the baseline models were calcuated by the whole three cores. It is a mistake needs to be corrected. This study keeps the three cores as the test set for all calculation. Then we use the rest of the cores as the training set, which are later randomly split into the (actual) training and validation sets with 4:1 ratio.\n",
    "\n",
    "## Test set"
   ]
  },
  {
   "cell_type": "code",
   "execution_count": 12,
   "metadata": {},
   "outputs": [
    {
     "data": {
      "text/html": [
       "<div>\n",
       "<style scoped>\n",
       "    .dataframe tbody tr th:only-of-type {\n",
       "        vertical-align: middle;\n",
       "    }\n",
       "\n",
       "    .dataframe tbody tr th {\n",
       "        vertical-align: top;\n",
       "    }\n",
       "\n",
       "    .dataframe thead th {\n",
       "        text-align: right;\n",
       "    }\n",
       "</style>\n",
       "<table border=\"1\" class=\"dataframe\">\n",
       "  <thead>\n",
       "    <tr style=\"text-align: right;\">\n",
       "      <th></th>\n",
       "      <th>dirname</th>\n",
       "      <th>composite_id</th>\n",
       "      <th>cps</th>\n",
       "      <th>core</th>\n",
       "      <th>composite_depth_mm</th>\n",
       "      <th>section_depth_mm</th>\n",
       "      <th>filename</th>\n",
       "      <th>section</th>\n",
       "    </tr>\n",
       "  </thead>\n",
       "  <tbody>\n",
       "    <tr>\n",
       "      <th>0</th>\n",
       "      <td>0.csv</td>\n",
       "      <td>PS75-056-1_00005</td>\n",
       "      <td>126814</td>\n",
       "      <td>PS75-056-1</td>\n",
       "      <td>5</td>\n",
       "      <td>5</td>\n",
       "      <td>PS75-056-1_0000    5.0mm  10s  10kV 150uA No-F...</td>\n",
       "      <td>0</td>\n",
       "    </tr>\n",
       "    <tr>\n",
       "      <th>1</th>\n",
       "      <td>1.csv</td>\n",
       "      <td>PS75-056-1_00010</td>\n",
       "      <td>170569</td>\n",
       "      <td>PS75-056-1</td>\n",
       "      <td>10</td>\n",
       "      <td>10</td>\n",
       "      <td>PS75-056-1_0000   10.0mm  10s  10kV 150uA No-F...</td>\n",
       "      <td>0</td>\n",
       "    </tr>\n",
       "    <tr>\n",
       "      <th>2</th>\n",
       "      <td>2.csv</td>\n",
       "      <td>PS75-056-1_00015</td>\n",
       "      <td>175200</td>\n",
       "      <td>PS75-056-1</td>\n",
       "      <td>15</td>\n",
       "      <td>15</td>\n",
       "      <td>PS75-056-1_0000   15.0mm  10s  10kV 150uA No-F...</td>\n",
       "      <td>0</td>\n",
       "    </tr>\n",
       "    <tr>\n",
       "      <th>3</th>\n",
       "      <td>3.csv</td>\n",
       "      <td>PS75-056-1_00020</td>\n",
       "      <td>175607</td>\n",
       "      <td>PS75-056-1</td>\n",
       "      <td>20</td>\n",
       "      <td>20</td>\n",
       "      <td>PS75-056-1_0000   20.0mm  10s  10kV 150uA No-F...</td>\n",
       "      <td>0</td>\n",
       "    </tr>\n",
       "    <tr>\n",
       "      <th>4</th>\n",
       "      <td>4.csv</td>\n",
       "      <td>PS75-056-1_00025</td>\n",
       "      <td>176768</td>\n",
       "      <td>PS75-056-1</td>\n",
       "      <td>25</td>\n",
       "      <td>25</td>\n",
       "      <td>PS75-056-1_0000   25.0mm  10s  10kV 150uA No-F...</td>\n",
       "      <td>0</td>\n",
       "    </tr>\n",
       "    <tr>\n",
       "      <th>...</th>\n",
       "      <td>...</td>\n",
       "      <td>...</td>\n",
       "      <td>...</td>\n",
       "      <td>...</td>\n",
       "      <td>...</td>\n",
       "      <td>...</td>\n",
       "      <td>...</td>\n",
       "      <td>...</td>\n",
       "    </tr>\n",
       "    <tr>\n",
       "      <th>4612</th>\n",
       "      <td>4612.csv</td>\n",
       "      <td>SO264-69-2_18460</td>\n",
       "      <td>109462</td>\n",
       "      <td>SO264-69-2</td>\n",
       "      <td>18460</td>\n",
       "      <td>910</td>\n",
       "      <td>SO264-69-1_017550  910.0mm  10s  10kV 150uA No...</td>\n",
       "      <td>18</td>\n",
       "    </tr>\n",
       "    <tr>\n",
       "      <th>4613</th>\n",
       "      <td>4613.csv</td>\n",
       "      <td>SO264-69-2_18470</td>\n",
       "      <td>108611</td>\n",
       "      <td>SO264-69-2</td>\n",
       "      <td>18470</td>\n",
       "      <td>920</td>\n",
       "      <td>SO264-69-1_017550  920.0mm  10s  10kV 150uA No...</td>\n",
       "      <td>18</td>\n",
       "    </tr>\n",
       "    <tr>\n",
       "      <th>4614</th>\n",
       "      <td>4614.csv</td>\n",
       "      <td>SO264-69-2_18480</td>\n",
       "      <td>111142</td>\n",
       "      <td>SO264-69-2</td>\n",
       "      <td>18480</td>\n",
       "      <td>930</td>\n",
       "      <td>SO264-69-1_017550  930.0mm  10s  10kV 150uA No...</td>\n",
       "      <td>18</td>\n",
       "    </tr>\n",
       "    <tr>\n",
       "      <th>4615</th>\n",
       "      <td>4615.csv</td>\n",
       "      <td>SO264-69-2_18490</td>\n",
       "      <td>109224</td>\n",
       "      <td>SO264-69-2</td>\n",
       "      <td>18490</td>\n",
       "      <td>940</td>\n",
       "      <td>SO264-69-1_017550  940.0mm  10s  10kV 150uA No...</td>\n",
       "      <td>18</td>\n",
       "    </tr>\n",
       "    <tr>\n",
       "      <th>4616</th>\n",
       "      <td>4616.csv</td>\n",
       "      <td>SO264-69-2_18500</td>\n",
       "      <td>105434</td>\n",
       "      <td>SO264-69-2</td>\n",
       "      <td>18500</td>\n",
       "      <td>950</td>\n",
       "      <td>SO264-69-1_017550  950.0mm  10s  10kV 150uA No...</td>\n",
       "      <td>18</td>\n",
       "    </tr>\n",
       "  </tbody>\n",
       "</table>\n",
       "<p>4617 rows × 8 columns</p>\n",
       "</div>"
      ],
      "text/plain": [
       "       dirname      composite_id     cps        core  composite_depth_mm  \\\n",
       "0        0.csv  PS75-056-1_00005  126814  PS75-056-1                   5   \n",
       "1        1.csv  PS75-056-1_00010  170569  PS75-056-1                  10   \n",
       "2        2.csv  PS75-056-1_00015  175200  PS75-056-1                  15   \n",
       "3        3.csv  PS75-056-1_00020  175607  PS75-056-1                  20   \n",
       "4        4.csv  PS75-056-1_00025  176768  PS75-056-1                  25   \n",
       "...        ...               ...     ...         ...                 ...   \n",
       "4612  4612.csv  SO264-69-2_18460  109462  SO264-69-2               18460   \n",
       "4613  4613.csv  SO264-69-2_18470  108611  SO264-69-2               18470   \n",
       "4614  4614.csv  SO264-69-2_18480  111142  SO264-69-2               18480   \n",
       "4615  4615.csv  SO264-69-2_18490  109224  SO264-69-2               18490   \n",
       "4616  4616.csv  SO264-69-2_18500  105434  SO264-69-2               18500   \n",
       "\n",
       "      section_depth_mm                                           filename  \\\n",
       "0                    5  PS75-056-1_0000    5.0mm  10s  10kV 150uA No-F...   \n",
       "1                   10  PS75-056-1_0000   10.0mm  10s  10kV 150uA No-F...   \n",
       "2                   15  PS75-056-1_0000   15.0mm  10s  10kV 150uA No-F...   \n",
       "3                   20  PS75-056-1_0000   20.0mm  10s  10kV 150uA No-F...   \n",
       "4                   25  PS75-056-1_0000   25.0mm  10s  10kV 150uA No-F...   \n",
       "...                ...                                                ...   \n",
       "4612               910  SO264-69-1_017550  910.0mm  10s  10kV 150uA No...   \n",
       "4613               920  SO264-69-1_017550  920.0mm  10s  10kV 150uA No...   \n",
       "4614               930  SO264-69-1_017550  930.0mm  10s  10kV 150uA No...   \n",
       "4615               940  SO264-69-1_017550  940.0mm  10s  10kV 150uA No...   \n",
       "4616               950  SO264-69-1_017550  950.0mm  10s  10kV 150uA No...   \n",
       "\n",
       "      section  \n",
       "0           0  \n",
       "1           0  \n",
       "2           0  \n",
       "3           0  \n",
       "4           0  \n",
       "...       ...  \n",
       "4612       18  \n",
       "4613       18  \n",
       "4614       18  \n",
       "4615       18  \n",
       "4616       18  \n",
       "\n",
       "[4617 rows x 8 columns]"
      ]
     },
     "execution_count": 12,
     "metadata": {},
     "output_type": "execute_result"
    }
   ],
   "source": [
    "test_df = pd.read_csv(f\"{cwd}/data/pretrain/test/info.csv\")\n",
    "spe_dir = glob.glob(f\"{cwd}/data/pretrain/test/spe/*.csv\")\n",
    "test_df"
   ]
  },
  {
   "cell_type": "code",
   "execution_count": 13,
   "metadata": {},
   "outputs": [
    {
     "name": "stdout",
     "output_type": "stream",
     "text": [
      "data amount: 4617\n",
      "spe amount: 4617\n",
      "cores: ['PS75-056-1' 'LV28-44-3-n' 'SO264-69-2']\n"
     ]
    }
   ],
   "source": [
    "print(f\"data amount: {len(test_df)}\")\n",
    "print(f\"spe amount: {len(spe_dir)}\")\n",
    "print(f\"cores: {test_df.core.unique()}\")"
   ]
  },
  {
   "cell_type": "markdown",
   "metadata": {},
   "source": [
    "## Training and validation sets\n",
    "The annotation files under the `train` folder are `info.csv` and `val.csv` for the training and validation sets, respectively. The spectra are all stored in `spe` folder, which will be read by the model according to the annotation files."
   ]
  },
  {
   "cell_type": "code",
   "execution_count": 2,
   "metadata": {},
   "outputs": [
    {
     "data": {
      "text/html": [
       "<div>\n",
       "<style scoped>\n",
       "    .dataframe tbody tr th:only-of-type {\n",
       "        vertical-align: middle;\n",
       "    }\n",
       "\n",
       "    .dataframe tbody tr th {\n",
       "        vertical-align: top;\n",
       "    }\n",
       "\n",
       "    .dataframe thead th {\n",
       "        text-align: right;\n",
       "    }\n",
       "</style>\n",
       "<table border=\"1\" class=\"dataframe\">\n",
       "  <thead>\n",
       "    <tr style=\"text-align: right;\">\n",
       "      <th></th>\n",
       "      <th>dirname</th>\n",
       "      <th>composite_id</th>\n",
       "      <th>cps</th>\n",
       "      <th>core</th>\n",
       "      <th>composite_depth_mm</th>\n",
       "      <th>section_depth_mm</th>\n",
       "      <th>filename</th>\n",
       "      <th>section</th>\n",
       "    </tr>\n",
       "  </thead>\n",
       "  <tbody>\n",
       "    <tr>\n",
       "      <th>0</th>\n",
       "      <td>28340.csv</td>\n",
       "      <td>SO264-60-12_07230</td>\n",
       "      <td>79071</td>\n",
       "      <td>SO264-60-12</td>\n",
       "      <td>7230</td>\n",
       "      <td>640</td>\n",
       "      <td>SO264-60-12_06590  640.0mm  10s  10kV 150uA No...</td>\n",
       "      <td>7</td>\n",
       "    </tr>\n",
       "    <tr>\n",
       "      <th>1</th>\n",
       "      <td>3651.csv</td>\n",
       "      <td>SO264-14-1_08580</td>\n",
       "      <td>155074</td>\n",
       "      <td>SO264-14-1</td>\n",
       "      <td>8580</td>\n",
       "      <td>170</td>\n",
       "      <td>SO264-14-1_0841  170.0mm  10s  10kV 150uA No-F...</td>\n",
       "      <td>9</td>\n",
       "    </tr>\n",
       "    <tr>\n",
       "      <th>2</th>\n",
       "      <td>36667.csv</td>\n",
       "      <td>SO178-12-3_04250</td>\n",
       "      <td>79329</td>\n",
       "      <td>SO178-12-3</td>\n",
       "      <td>4250</td>\n",
       "      <td>250</td>\n",
       "      <td>SO178-12-3_0400  250.0mm  10s  10kV 150uA No-F...</td>\n",
       "      <td>4</td>\n",
       "    </tr>\n",
       "    <tr>\n",
       "      <th>3</th>\n",
       "      <td>10834.csv</td>\n",
       "      <td>SO264-24-3_04100</td>\n",
       "      <td>102379</td>\n",
       "      <td>SO264-24-3</td>\n",
       "      <td>4100</td>\n",
       "      <td>300</td>\n",
       "      <td>SO264-24-3_0380  300.0mm  10s  10kV 150uA No-F...</td>\n",
       "      <td>4</td>\n",
       "    </tr>\n",
       "    <tr>\n",
       "      <th>4</th>\n",
       "      <td>10867.csv</td>\n",
       "      <td>SO264-24-3_04430</td>\n",
       "      <td>101157</td>\n",
       "      <td>SO264-24-3</td>\n",
       "      <td>4430</td>\n",
       "      <td>630</td>\n",
       "      <td>SO264-24-3_0380  630.0mm  10s  10kV 150uA No-F...</td>\n",
       "      <td>4</td>\n",
       "    </tr>\n",
       "    <tr>\n",
       "      <th>...</th>\n",
       "      <td>...</td>\n",
       "      <td>...</td>\n",
       "      <td>...</td>\n",
       "      <td>...</td>\n",
       "      <td>...</td>\n",
       "      <td>...</td>\n",
       "      <td>...</td>\n",
       "      <td>...</td>\n",
       "    </tr>\n",
       "    <tr>\n",
       "      <th>44163</th>\n",
       "      <td>12341.csv</td>\n",
       "      <td>SO264-26-2_04740</td>\n",
       "      <td>149877</td>\n",
       "      <td>SO264-26-2</td>\n",
       "      <td>4740</td>\n",
       "      <td>320</td>\n",
       "      <td>SO264-26-2_04420  320.0mm  10s  10kV 150uA No-...</td>\n",
       "      <td>5</td>\n",
       "    </tr>\n",
       "    <tr>\n",
       "      <th>44164</th>\n",
       "      <td>27439.csv</td>\n",
       "      <td>SO264-56-2_10790</td>\n",
       "      <td>88201</td>\n",
       "      <td>SO264-56-2</td>\n",
       "      <td>10790</td>\n",
       "      <td>130</td>\n",
       "      <td>SO264-56-2_10660  130.0mm  10s  10kV 150uA No-...</td>\n",
       "      <td>11</td>\n",
       "    </tr>\n",
       "    <tr>\n",
       "      <th>44165</th>\n",
       "      <td>53782.csv</td>\n",
       "      <td>PS97-093-2_11070</td>\n",
       "      <td>55959</td>\n",
       "      <td>PS97-093-2</td>\n",
       "      <td>11070</td>\n",
       "      <td>630</td>\n",
       "      <td>PS97-93-2_1044  630.0mm  10s  10kV 150uA No-Fi...</td>\n",
       "      <td>11</td>\n",
       "    </tr>\n",
       "    <tr>\n",
       "      <th>44166</th>\n",
       "      <td>53453.csv</td>\n",
       "      <td>PS97-093-2_09425</td>\n",
       "      <td>59859</td>\n",
       "      <td>PS97-093-2</td>\n",
       "      <td>9425</td>\n",
       "      <td>985</td>\n",
       "      <td>PS97-93-2_0844  985.0mm  10s  10kV 150uA No-Fi...</td>\n",
       "      <td>9</td>\n",
       "    </tr>\n",
       "    <tr>\n",
       "      <th>44167</th>\n",
       "      <td>43163.csv</td>\n",
       "      <td>PS75-095-5_04020</td>\n",
       "      <td>78600</td>\n",
       "      <td>PS75-095-5</td>\n",
       "      <td>4020</td>\n",
       "      <td>180</td>\n",
       "      <td>PS75-095-5_0384  180.0mm  10s  10kV 150uA No-F...</td>\n",
       "      <td>4</td>\n",
       "    </tr>\n",
       "  </tbody>\n",
       "</table>\n",
       "<p>44168 rows × 8 columns</p>\n",
       "</div>"
      ],
      "text/plain": [
       "         dirname       composite_id     cps         core  composite_depth_mm  \\\n",
       "0      28340.csv  SO264-60-12_07230   79071  SO264-60-12                7230   \n",
       "1       3651.csv   SO264-14-1_08580  155074   SO264-14-1                8580   \n",
       "2      36667.csv   SO178-12-3_04250   79329   SO178-12-3                4250   \n",
       "3      10834.csv   SO264-24-3_04100  102379   SO264-24-3                4100   \n",
       "4      10867.csv   SO264-24-3_04430  101157   SO264-24-3                4430   \n",
       "...          ...                ...     ...          ...                 ...   \n",
       "44163  12341.csv   SO264-26-2_04740  149877   SO264-26-2                4740   \n",
       "44164  27439.csv   SO264-56-2_10790   88201   SO264-56-2               10790   \n",
       "44165  53782.csv   PS97-093-2_11070   55959   PS97-093-2               11070   \n",
       "44166  53453.csv   PS97-093-2_09425   59859   PS97-093-2                9425   \n",
       "44167  43163.csv   PS75-095-5_04020   78600   PS75-095-5                4020   \n",
       "\n",
       "       section_depth_mm                                           filename  \\\n",
       "0                   640  SO264-60-12_06590  640.0mm  10s  10kV 150uA No...   \n",
       "1                   170  SO264-14-1_0841  170.0mm  10s  10kV 150uA No-F...   \n",
       "2                   250  SO178-12-3_0400  250.0mm  10s  10kV 150uA No-F...   \n",
       "3                   300  SO264-24-3_0380  300.0mm  10s  10kV 150uA No-F...   \n",
       "4                   630  SO264-24-3_0380  630.0mm  10s  10kV 150uA No-F...   \n",
       "...                 ...                                                ...   \n",
       "44163               320  SO264-26-2_04420  320.0mm  10s  10kV 150uA No-...   \n",
       "44164               130  SO264-56-2_10660  130.0mm  10s  10kV 150uA No-...   \n",
       "44165               630  PS97-93-2_1044  630.0mm  10s  10kV 150uA No-Fi...   \n",
       "44166               985  PS97-93-2_0844  985.0mm  10s  10kV 150uA No-Fi...   \n",
       "44167               180  PS75-095-5_0384  180.0mm  10s  10kV 150uA No-F...   \n",
       "\n",
       "       section  \n",
       "0            7  \n",
       "1            9  \n",
       "2            4  \n",
       "3            4  \n",
       "4            4  \n",
       "...        ...  \n",
       "44163        5  \n",
       "44164       11  \n",
       "44165       11  \n",
       "44166        9  \n",
       "44167        4  \n",
       "\n",
       "[44168 rows x 8 columns]"
      ]
     },
     "execution_count": 2,
     "metadata": {},
     "output_type": "execute_result"
    }
   ],
   "source": [
    "train_df = pd.read_csv(f\"{cwd}/data/pretrain/train/info.csv\")\n",
    "validation_df = pd.read_csv(f\"{cwd}/data/pretrain/train/val.csv\")\n",
    "spe_dir = glob.glob(f\"{cwd}/data/pretrain/train/spe/*.csv\")\n",
    "train_df"
   ]
  },
  {
   "cell_type": "code",
   "execution_count": 3,
   "metadata": {},
   "outputs": [
    {
     "name": "stdout",
     "output_type": "stream",
     "text": [
      "train and validation sets\n",
      "data amount: 55211\n",
      "spe amount: 55211\n",
      "core amount: 116\n",
      "cores: ['SO264-60-12' 'SO264-14-1' 'SO178-12-3' 'SO264-24-3' 'PS97-093-2'\n",
      " 'SO264-41-2' 'SO264-44-3' 'PS75-095-5' 'PS97-092-1' 'SO264-32-2'\n",
      " 'LV29-114-3' 'PS75-093-1' 'PS97-084-1' 'SO264-64-1' 'SO264-22-2'\n",
      " 'SO264-16-2' 'SO264-26-2' 'SO264-46-5' 'SO264-19-2' 'SO264-15-2'\n",
      " 'SO264-53-2' 'SO264-54-2' 'SO264-45-2' 'PS97-089-1' 'PS97-083-2'\n",
      " 'PS75-054-1' 'SO264-70-1' 'PS97-085-3' 'SO264-09-2' 'SO264-28-2'\n",
      " 'SO264-66-2' 'PS75-083-1' 'LV28-44-3' 'SO264-56-2' 'PS97-079-2'\n",
      " 'SO264-51-2' 'PS97-052-4' 'SO264-52-2' 'SO264-47-2' 'SO264-13-2'\n",
      " 'PS75-093-1_TC' 'SO264-55-1' 'SO264-76-1' 'PS97-128-2' 'PS97-053-2'\n",
      " 'SO264-62-2' 'SO264-49-2' 'PS97-078-1' 'SO264-44-2' 'PS97-027-2'\n",
      " 'SO202-37-2_re' 'PS97-046-4' 'SO264-34-2' 'PS97-085-3_TC' 'PS97-080-1'\n",
      " 'PS97-089-1_TC' 'PS97-084-1_TC' 'PS75-083-1_TC' 'SO264-32-2' 'SO178-12-3'\n",
      " 'PS75-054-1' 'PS97-085-3_TC' 'PS97-084-1' 'SO264-51-2' 'SO264-49-2'\n",
      " 'SO264-56-2' 'SO264-64-1' 'PS97-089-1' 'SO264-16-2' 'SO264-19-2'\n",
      " 'PS97-093-2' 'SO264-44-3' 'SO264-09-2' 'SO264-55-1' 'SO264-52-2'\n",
      " 'PS75-093-1' 'SO264-62-2' 'SO264-15-2' 'SO264-45-2' 'SO264-24-3'\n",
      " 'PS75-083-1' 'PS97-084-1_TC' 'SO264-54-2' 'SO264-53-2' 'PS75-095-5'\n",
      " 'SO264-22-2' 'SO264-60-12' 'SO264-41-2' 'PS97-092-1' 'SO264-46-5'\n",
      " 'SO264-66-2' 'SO264-13-2' 'SO264-76-1' 'SO264-44-2' 'PS97-085-3'\n",
      " 'PS97-052-4' 'SO264-26-2' 'PS97-083-2' 'LV29-114-3' 'SO264-14-1'\n",
      " 'PS97-128-2' 'PS97-089-1_TC' 'LV28-44-3' 'PS97-079-2' 'PS97-053-2'\n",
      " 'SO264-28-2' 'PS97-046-4' 'PS97-078-1' 'SO264-70-1' 'PS75-083-1_TC'\n",
      " 'PS97-080-1' 'SO264-47-2' 'SO264-34-2' 'SO202-37-2_re' 'PS75-093-1_TC'\n",
      " 'PS97-027-2']\n"
     ]
    }
   ],
   "source": [
    "cores = np.hstack([train_df.core.unique(), validation_df.core.unique()])\n",
    "\n",
    "print(\"train and validation sets\")\n",
    "print(f\"data amount: {len(train_df)+len(validation_df)}\")\n",
    "print(f\"spe amount: {len(spe_dir)}\")\n",
    "\n",
    "print(f\"core amount: {len(cores)}\")\n",
    "print(f\"cores: {cores}\")"
   ]
  },
  {
   "cell_type": "markdown",
   "metadata": {},
   "source": [
    "# Downstream tasks\n",
    "The tasks are predicting CaCO3 and TOC content from XRF spectra. The test set uses the same test cores as the XRF spectra, which is relevent to the case study in the baseline. The paired XRF and targets are extracted from `data/legacy/spe+bulk_dataset_20220629.csv`.The training and validation sets use the cores listed in the \"CHOSEN\" sheet in `data/legacy/ML station list.xlsx`, instead of the whole rest cores. This is the same as the training and test sets in the baseline. The data from these cores are then randomly split into training and validation sets with 4:1 ratio. "
   ]
  },
  {
   "cell_type": "code",
   "execution_count": 6,
   "metadata": {},
   "outputs": [],
   "source": [
    "def read_files(target, subset, test: bool):\n",
    "    info_df = pd.read_csv(f\"{cwd}/data/finetune/{target}/{subset}/info.csv\")\n",
    "    target_dir = glob.glob(f\"{cwd}/data/finetune/{target}/{subset}/target/*.csv\")\n",
    "    spe_dir = glob.glob(f\"{cwd}/data/finetune/{target}/{subset}/spe/*.csv\")\n",
    "\n",
    "    print(info_df)\n",
    "    \n",
    "    if test:\n",
    "        return info_df, target_dir, spe_dir\n",
    "    else:\n",
    "        validation_df = pd.read_csv(f\"{cwd}/data/finetune/{target}/{subset}/val.csv\")\n",
    "        return info_df, validation_df, target_dir, spe_dir"
   ]
  },
  {
   "cell_type": "markdown",
   "metadata": {},
   "source": [
    "## CaCO3\n",
    "### Test set"
   ]
  },
  {
   "cell_type": "code",
   "execution_count": 7,
   "metadata": {},
   "outputs": [
    {
     "name": "stdout",
     "output_type": "stream",
     "text": [
      "     dirname         core  mid_depth_mm\n",
      "0      0.csv   PS75-056-1          15.0\n",
      "1      1.csv   PS75-056-1          55.0\n",
      "2      2.csv   PS75-056-1         155.0\n",
      "3      3.csv   PS75-056-1         255.0\n",
      "4      4.csv   PS75-056-1         355.0\n",
      "..       ...          ...           ...\n",
      "389  389.csv  LV28-44-3-n       10875.0\n",
      "390  390.csv  LV28-44-3-n       10925.0\n",
      "391  391.csv  LV28-44-3-n       10975.0\n",
      "392  392.csv  LV28-44-3-n       11025.0\n",
      "393  393.csv  LV28-44-3-n       11075.0\n",
      "\n",
      "[394 rows x 3 columns]\n"
     ]
    }
   ],
   "source": [
    "target = \"CaCO3%\"\n",
    "subset = \"test\"\n",
    "info_df, target_dir, spe_dir = read_files(target, subset, test=True)"
   ]
  },
  {
   "cell_type": "code",
   "execution_count": 8,
   "metadata": {},
   "outputs": [],
   "source": [
    "# use the baseline codes to subset data\n",
    "test_cores = [\"PS75-056-1\", \"LV28-44-3-n\", \"SO264-69-2\"]\n",
    "prepare = nwp_cali.PrepareData(\n",
    "    measurement=target, \n",
    "    data_dir=f\"{cwd}/data/legacy/spe+bulk_dataset_20220629.csv\", \n",
    "    select_dir=f\"{cwd}/data/legacy/ML station list.xlsx\")\n",
    "\n",
    "# note: its select_casestudy()\n",
    "data_df = prepare.select_casestudy(case_cores = test_cores)\n",
    "X, y = prepare.produce_Xy(data_df)"
   ]
  },
  {
   "cell_type": "code",
   "execution_count": 9,
   "metadata": {},
   "outputs": [
    {
     "name": "stdout",
     "output_type": "stream",
     "text": [
      "data amount in annotation file: 394\n",
      "actual data amount: 394\n",
      "actual spe amount: 394\n",
      "cores: ['PS75-056-1' 'SO264-69-2' 'LV28-44-3-n']\n",
      "data amount using baseline codes: 394\n"
     ]
    }
   ],
   "source": [
    "print(f\"data amount in annotation file: {len(info_df)}\")\n",
    "print(f\"actual data amount: {len(target_dir)}\")\n",
    "print(f\"actual spe amount: {len(spe_dir)}\")\n",
    "print(f\"cores: {info_df.core.unique()}\")\n",
    "\n",
    "print(f\"data amount using baseline codes: {len(y)}\")"
   ]
  },
  {
   "cell_type": "markdown",
   "metadata": {},
   "source": [
    "The data amounts in the annotation file, actual target folder, actual spe folder and the extration by the baseline codes are all the same.\n",
    "\n",
    "### Training and validation sets"
   ]
  },
  {
   "cell_type": "code",
   "execution_count": 10,
   "metadata": {},
   "outputs": [
    {
     "name": "stdout",
     "output_type": "stream",
     "text": [
      "       dirname        core  mid_depth_mm\n",
      "0       34.csv  SO264-64-1       15015.0\n",
      "1     1427.csv  PS75-054-1       15505.0\n",
      "2     1857.csv  PS75-095-5       17605.0\n",
      "3       39.csv  SO264-66-2         995.0\n",
      "4      794.csv  PS97-085-3        1505.0\n",
      "...        ...         ...           ...\n",
      "1483   631.csv  PS97-083-2        1005.0\n",
      "1484  1706.csv  PS75-095-5        2205.0\n",
      "1485  1208.csv  PS97-093-2       11605.0\n",
      "1486  1163.csv  PS97-093-2        7005.0\n",
      "1487   196.csv  SO264-55-1        5045.0\n",
      "\n",
      "[1488 rows x 3 columns]\n"
     ]
    }
   ],
   "source": [
    "target = \"CaCO3%\"\n",
    "subset = \"train\"\n",
    "info_df, validation_df, target_dir, spe_dir = read_files(target, subset, test=False)"
   ]
  },
  {
   "cell_type": "code",
   "execution_count": 11,
   "metadata": {},
   "outputs": [],
   "source": [
    "# use the baseline codes to subset data\n",
    "prepare = nwp_cali.PrepareData(\n",
    "    measurement=target, \n",
    "    data_dir=f\"{cwd}/data/legacy/spe+bulk_dataset_20220629.csv\", \n",
    "    select_dir=f\"{cwd}/data/legacy/ML station list.xlsx\")\n",
    "\n",
    "# note: its select_data()\n",
    "data_df = prepare.select_data()\n",
    "X, y = prepare.produce_Xy(data_df)"
   ]
  },
  {
   "cell_type": "code",
   "execution_count": 12,
   "metadata": {},
   "outputs": [
    {
     "name": "stdout",
     "output_type": "stream",
     "text": [
      "data amount in annotation file: 1860\n",
      "actual data amount: 1860\n",
      "actual spe amount: 1860\n",
      "cores: ['SO264-64-1' 'PS75-054-1' 'PS75-095-5' 'SO264-66-2' 'PS97-085-3'\n",
      " 'PS97-084-1' 'SO264-28-2' 'PS97-089-1' 'PS97-093-2' 'SO264-13-2'\n",
      " 'PS75-083-1' 'PS97-052-4' 'SO264-55-1' 'PS75-093-1' 'PS97-092-1'\n",
      " 'PS97-079-2' 'PS97-078-1' 'PS97-128-2' 'SO264-56-2' 'PS97-083-2'\n",
      " 'LV29-114-3' 'PS97-080-1' 'SO264-15-2' 'PS97-053-2' 'PS97-027-2'\n",
      " 'PS97-046-4']\n",
      "data amount using baseline codes: 1860\n"
     ]
    }
   ],
   "source": [
    "print(f\"data amount in annotation file: {len(info_df)+len(validation_df)}\")\n",
    "print(f\"actual data amount: {len(target_dir)}\")\n",
    "print(f\"actual spe amount: {len(spe_dir)}\")\n",
    "print(f\"cores: {info_df.core.unique()}\")\n",
    "\n",
    "print(f\"data amount using baseline codes: {len(y)}\")"
   ]
  },
  {
   "cell_type": "markdown",
   "metadata": {},
   "source": [
    "The data amounts in the annotation file, actual target folder, actual spe folder and the extration by the baseline codes are all the same.\n",
    "\n",
    "## TOC\n",
    "### Test set"
   ]
  },
  {
   "cell_type": "code",
   "execution_count": 13,
   "metadata": {},
   "outputs": [
    {
     "name": "stdout",
     "output_type": "stream",
     "text": [
      "     dirname         core  mid_depth_mm\n",
      "0      0.csv   PS75-056-1          15.0\n",
      "1      1.csv   PS75-056-1          55.0\n",
      "2      2.csv   PS75-056-1         155.0\n",
      "3      3.csv   PS75-056-1         255.0\n",
      "4      4.csv   PS75-056-1         355.0\n",
      "..       ...          ...           ...\n",
      "391  391.csv  LV28-44-3-n       10875.0\n",
      "392  392.csv  LV28-44-3-n       10925.0\n",
      "393  393.csv  LV28-44-3-n       10975.0\n",
      "394  394.csv  LV28-44-3-n       11025.0\n",
      "395  395.csv  LV28-44-3-n       11075.0\n",
      "\n",
      "[396 rows x 3 columns]\n"
     ]
    }
   ],
   "source": [
    "target = \"TOC%\"\n",
    "subset = \"test\"\n",
    "info_df, target_dir, spe_dir = read_files(target, subset, test=True)"
   ]
  },
  {
   "cell_type": "code",
   "execution_count": 14,
   "metadata": {},
   "outputs": [],
   "source": [
    "# use the baseline codes to subset data\n",
    "test_cores = [\"PS75-056-1\", \"LV28-44-3-n\", \"SO264-69-2\"]\n",
    "prepare = nwp_cali.PrepareData(\n",
    "    measurement=target, \n",
    "    data_dir=f\"{cwd}/data/legacy/spe+bulk_dataset_20220629.csv\", \n",
    "    select_dir=f\"{cwd}/data/legacy/ML station list.xlsx\")\n",
    "\n",
    "# note: its select_casestudy()\n",
    "data_df = prepare.select_casestudy(case_cores = test_cores)\n",
    "X, y = prepare.produce_Xy(data_df)"
   ]
  },
  {
   "cell_type": "code",
   "execution_count": 15,
   "metadata": {},
   "outputs": [
    {
     "name": "stdout",
     "output_type": "stream",
     "text": [
      "data amount in annotation file: 396\n",
      "actual data amount: 396\n",
      "actual spe amount: 396\n",
      "cores: ['PS75-056-1' 'SO264-69-2' 'LV28-44-3-n']\n",
      "data amount using baseline codes: 396\n"
     ]
    }
   ],
   "source": [
    "print(f\"data amount in annotation file: {len(info_df)}\")\n",
    "print(f\"actual data amount: {len(target_dir)}\")\n",
    "print(f\"actual spe amount: {len(spe_dir)}\")\n",
    "print(f\"cores: {info_df.core.unique()}\")\n",
    "\n",
    "print(f\"data amount using baseline codes: {len(y)}\")"
   ]
  },
  {
   "cell_type": "markdown",
   "metadata": {},
   "source": [
    "The data amounts in the annotation file, actual target folder, actual spe folder and the extration by the baseline codes are all the same.\n",
    "\n",
    "### Training and validation sets"
   ]
  },
  {
   "cell_type": "code",
   "execution_count": 16,
   "metadata": {},
   "outputs": [
    {
     "name": "stdout",
     "output_type": "stream",
     "text": [
      "       dirname        core  mid_depth_mm\n",
      "0      942.csv  PS97-085-3       13105.0\n",
      "1     1581.csv  PS75-083-1        4805.0\n",
      "2     1391.csv  PS75-054-1        8195.0\n",
      "3      510.csv  PS97-052-4         305.0\n",
      "4      714.csv  PS97-084-1        1005.0\n",
      "...        ...         ...           ...\n",
      "1568  1934.csv  PS75-095-5       14505.0\n",
      "1569   914.csv  PS97-085-3       10305.0\n",
      "1570  1804.csv  PS75-095-5        1305.0\n",
      "1571   557.csv  PS97-078-1         305.0\n",
      "1572  1935.csv  PS75-095-5       14605.0\n",
      "\n",
      "[1573 rows x 3 columns]\n"
     ]
    }
   ],
   "source": [
    "target = \"TOC%\"\n",
    "subset = \"train\"\n",
    "info_df, validation_df, target_dir, spe_dir = read_files(target, subset, test=False)"
   ]
  },
  {
   "cell_type": "code",
   "execution_count": 17,
   "metadata": {},
   "outputs": [],
   "source": [
    "# use the baseline codes to subset data\n",
    "prepare = nwp_cali.PrepareData(\n",
    "    measurement=target, \n",
    "    data_dir=f\"{cwd}/data/legacy/spe+bulk_dataset_20220629.csv\", \n",
    "    select_dir=f\"{cwd}/data/legacy/ML station list.xlsx\")\n",
    "\n",
    "# note: its select_data()\n",
    "data_df = prepare.select_data()\n",
    "X, y = prepare.produce_Xy(data_df)"
   ]
  },
  {
   "cell_type": "code",
   "execution_count": 18,
   "metadata": {},
   "outputs": [
    {
     "name": "stdout",
     "output_type": "stream",
     "text": [
      "data amount in annotation file: 1967\n",
      "actual data amount: 1967\n",
      "actual spe amount: 1967\n",
      "cores: ['PS97-085-3' 'PS75-083-1' 'PS75-054-1' 'PS97-052-4' 'PS97-084-1'\n",
      " 'SO264-28-2' 'SO264-15-2' 'PS75-095-5' 'SO264-55-1' 'PS97-128-2'\n",
      " 'PS97-078-1' 'PS75-093-1' 'PS97-083-2' 'SO264-13-2' 'PS97-092-1'\n",
      " 'PS97-093-2' 'PS97-079-2' 'SO264-64-1' 'PS97-053-2' 'SO264-66-2'\n",
      " 'LV29-114-3' 'PS97-080-1' 'PS97-089-1' 'SO264-56-2' 'SO178-12-3'\n",
      " 'PS97-027-2' 'PS97-046-4']\n",
      "data amount using baseline codes: 1967\n"
     ]
    }
   ],
   "source": [
    "print(f\"data amount in annotation file: {len(info_df)+len(validation_df)}\")\n",
    "print(f\"actual data amount: {len(target_dir)}\")\n",
    "print(f\"actual spe amount: {len(spe_dir)}\")\n",
    "print(f\"cores: {info_df.core.unique()}\")\n",
    "\n",
    "print(f\"data amount using baseline codes: {len(y)}\")"
   ]
  },
  {
   "cell_type": "markdown",
   "metadata": {},
   "source": [
    "The data amounts in the annotation file, actual target folder, actual spe folder and the extration by the baseline codes are all the same."
   ]
  }
 ],
 "metadata": {
  "kernelspec": {
   "display_name": "Python 3",
   "language": "python",
   "name": "python3"
  },
  "language_info": {
   "codemirror_mode": {
    "name": "ipython",
    "version": 3
   },
   "file_extension": ".py",
   "mimetype": "text/x-python",
   "name": "python",
   "nbconvert_exporter": "python",
   "pygments_lexer": "ipython3",
   "version": "3.11.9"
  }
 },
 "nbformat": 4,
 "nbformat_minor": 2
}

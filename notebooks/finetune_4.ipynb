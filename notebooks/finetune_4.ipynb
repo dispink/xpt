{
 "cells": [
  {
   "cell_type": "markdown",
   "metadata": {},
   "source": [
    "## Evaluate the finetuned model\n",
    "The intention was to check if our new codes (systematically modified into command line base) are able to reproduce the performance from the old codes. However, since we decided to deal with one kind of measurement for each model in the new codes, there is no straightforward way to compare the two versions of codes. And the old model didn't provide excellent performance either. I then changed to the target, \"if the new codes generate ok performance\". Later on, we will conduct a series of hyperparameter tuning to improve the performance."
   ]
  },
  {
   "cell_type": "code",
   "execution_count": 3,
   "metadata": {},
   "outputs": [],
   "source": [
    "import torch\n",
    "from src.models.mae_vit_regressor import mae_vit_base_patch16\n",
    "from src.datas import transforms\n",
    "from src.datas.dataloader import get_dataloader\n",
    "\n",
    "device = torch.device('cuda')\n",
    "model = mae_vit_base_patch16(pretrained=True, weights=\"results/model.ckpt\").to(device)\n",
    "checkpoint = torch.load('results/model.ckpt')\n",
    "model.load_state_dict(checkpoint)\n",
    "\n",
    "dataloader = get_dataloader(ispretrain=False, annotations_file='info.csv', input_dir='data/finetune/CaCO3%/train', \n",
    "                            batch_size=256, transform=transforms.standardize_numpy, num_workers=8)"
   ]
  },
  {
   "cell_type": "code",
   "execution_count": 4,
   "metadata": {},
   "outputs": [
    {
     "name": "stdout",
     "output_type": "stream",
     "text": [
      "CaCO3\n",
      "MSE: [67.022675]\n",
      "RMSR: [8.186738]\n",
      "MSE of base model: [335.09964214]\n",
      "R2: [0.79999181]\n"
     ]
    }
   ],
   "source": [
    "from archives.src.util.evaluate import finetune_evaluator \n",
    "\n",
    "eva = finetune_evaluator()\n",
    "model_mse = eva.evaluate(model=model, dataloader=dataloader['val'])\n",
    "base_mse = eva.evaluate_base(dataloader['val'])\n",
    "\n",
    "r_square = 1 - model_mse / base_mse\n",
    "\n",
    "print('CaCO3')\n",
    "print(f'MSE: {model_mse}')\n",
    "print(f'RMSR: {model_mse**0.5}')\n",
    "print(f'MSE of base model: {base_mse}')\n",
    "print(f'R2: {r_square}')"
   ]
  },
  {
   "cell_type": "markdown",
   "metadata": {},
   "source": [
    "The performance of CaCO3 is okay.\n",
    "\n",
    "However, the finetuning on the TOC datasets gives both the train and valid losses NaN starting from the first epoch. We need to fix it."
   ]
  }
 ],
 "metadata": {
  "kernelspec": {
   "display_name": "Python 3",
   "language": "python",
   "name": "python3"
  },
  "language_info": {
   "codemirror_mode": {
    "name": "ipython",
    "version": 3
   },
   "file_extension": ".py",
   "mimetype": "text/x-python",
   "name": "python",
   "nbconvert_exporter": "python",
   "pygments_lexer": "ipython3",
   "version": "3.11.9"
  }
 },
 "nbformat": 4,
 "nbformat_minor": 2
}

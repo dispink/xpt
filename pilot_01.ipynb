{
 "cells": [
  {
   "cell_type": "markdown",
   "metadata": {},
   "source": [
    "I select the core SO264-15-2 for the pilot work, which is same as [the reference paper](https://www.nature.com/articles/s41598-022-25377-x). This pilot work has the purpose to go through the steps of building dataset and training model in a smaller portion of the data. The final model will be trained on the whole dataset. This notebook is the first step of the pilot work: building the dataset."
   ]
  },
  {
   "cell_type": "markdown",
   "metadata": {},
   "source": [
    "# Build dataset\n",
    "I intend to adopt the data of the reference paper because it has been polished by dealing with some duplicates, zeros and problemtic machine heads. I am going to create a data format fitting the [template](https://pytorch.org/tutorials/beginner/basics/data_tutorial.html)."
   ]
  },
  {
   "cell_type": "code",
   "execution_count": 1,
   "metadata": {},
   "outputs": [
    {
     "name": "stdout",
     "output_type": "stream",
     "text": [
      "20231121\n"
     ]
    }
   ],
   "source": [
    "import numpy as np\n",
    "import pandas as pd\n",
    "\n",
    "# get today's date\n",
    "from datetime import date\n",
    "date = date.today().strftime('%Y%m%d')\n",
    "print(date)"
   ]
  },
  {
   "cell_type": "code",
   "execution_count": 2,
   "metadata": {},
   "outputs": [
    {
     "data": {
      "text/html": [
       "<div>\n",
       "<style scoped>\n",
       "    .dataframe tbody tr th:only-of-type {\n",
       "        vertical-align: middle;\n",
       "    }\n",
       "\n",
       "    .dataframe tbody tr th {\n",
       "        vertical-align: top;\n",
       "    }\n",
       "\n",
       "    .dataframe thead th {\n",
       "        text-align: right;\n",
       "    }\n",
       "</style>\n",
       "<table border=\"1\" class=\"dataframe\">\n",
       "  <thead>\n",
       "    <tr style=\"text-align: right;\">\n",
       "      <th></th>\n",
       "      <th>0</th>\n",
       "      <th>1</th>\n",
       "      <th>2</th>\n",
       "      <th>3</th>\n",
       "      <th>4</th>\n",
       "      <th>5</th>\n",
       "      <th>6</th>\n",
       "      <th>7</th>\n",
       "      <th>8</th>\n",
       "      <th>9</th>\n",
       "      <th>...</th>\n",
       "      <th>2044</th>\n",
       "      <th>2045</th>\n",
       "      <th>2046</th>\n",
       "      <th>2047</th>\n",
       "      <th>cps</th>\n",
       "      <th>core</th>\n",
       "      <th>composite_depth_mm</th>\n",
       "      <th>section_depth_mm</th>\n",
       "      <th>filename</th>\n",
       "      <th>section</th>\n",
       "    </tr>\n",
       "    <tr>\n",
       "      <th>composite_id</th>\n",
       "      <th></th>\n",
       "      <th></th>\n",
       "      <th></th>\n",
       "      <th></th>\n",
       "      <th></th>\n",
       "      <th></th>\n",
       "      <th></th>\n",
       "      <th></th>\n",
       "      <th></th>\n",
       "      <th></th>\n",
       "      <th></th>\n",
       "      <th></th>\n",
       "      <th></th>\n",
       "      <th></th>\n",
       "      <th></th>\n",
       "      <th></th>\n",
       "      <th></th>\n",
       "      <th></th>\n",
       "      <th></th>\n",
       "      <th></th>\n",
       "      <th></th>\n",
       "    </tr>\n",
       "  </thead>\n",
       "  <tbody>\n",
       "    <tr>\n",
       "      <th>SO264-09-2_00010</th>\n",
       "      <td>0</td>\n",
       "      <td>0</td>\n",
       "      <td>0</td>\n",
       "      <td>0</td>\n",
       "      <td>0</td>\n",
       "      <td>0</td>\n",
       "      <td>0</td>\n",
       "      <td>0</td>\n",
       "      <td>0</td>\n",
       "      <td>0</td>\n",
       "      <td>...</td>\n",
       "      <td>0</td>\n",
       "      <td>0</td>\n",
       "      <td>0</td>\n",
       "      <td>0</td>\n",
       "      <td>174740</td>\n",
       "      <td>SO264-09-2</td>\n",
       "      <td>10</td>\n",
       "      <td>10</td>\n",
       "      <td>SO264-09-2_0000   10.0mm  10s  10kV 150uA No-F...</td>\n",
       "      <td>0</td>\n",
       "    </tr>\n",
       "    <tr>\n",
       "      <th>SO264-09-2_00020</th>\n",
       "      <td>0</td>\n",
       "      <td>0</td>\n",
       "      <td>0</td>\n",
       "      <td>0</td>\n",
       "      <td>0</td>\n",
       "      <td>0</td>\n",
       "      <td>0</td>\n",
       "      <td>0</td>\n",
       "      <td>0</td>\n",
       "      <td>0</td>\n",
       "      <td>...</td>\n",
       "      <td>0</td>\n",
       "      <td>0</td>\n",
       "      <td>0</td>\n",
       "      <td>0</td>\n",
       "      <td>176896</td>\n",
       "      <td>SO264-09-2</td>\n",
       "      <td>20</td>\n",
       "      <td>20</td>\n",
       "      <td>SO264-09-2_0000   20.0mm  10s  10kV 150uA No-F...</td>\n",
       "      <td>0</td>\n",
       "    </tr>\n",
       "    <tr>\n",
       "      <th>SO264-09-2_00030</th>\n",
       "      <td>0</td>\n",
       "      <td>0</td>\n",
       "      <td>0</td>\n",
       "      <td>0</td>\n",
       "      <td>0</td>\n",
       "      <td>0</td>\n",
       "      <td>0</td>\n",
       "      <td>0</td>\n",
       "      <td>0</td>\n",
       "      <td>0</td>\n",
       "      <td>...</td>\n",
       "      <td>0</td>\n",
       "      <td>0</td>\n",
       "      <td>0</td>\n",
       "      <td>0</td>\n",
       "      <td>183148</td>\n",
       "      <td>SO264-09-2</td>\n",
       "      <td>30</td>\n",
       "      <td>30</td>\n",
       "      <td>SO264-09-2_0000   30.0mm  10s  10kV 150uA No-F...</td>\n",
       "      <td>0</td>\n",
       "    </tr>\n",
       "    <tr>\n",
       "      <th>SO264-09-2_00040</th>\n",
       "      <td>0</td>\n",
       "      <td>0</td>\n",
       "      <td>0</td>\n",
       "      <td>0</td>\n",
       "      <td>0</td>\n",
       "      <td>0</td>\n",
       "      <td>0</td>\n",
       "      <td>0</td>\n",
       "      <td>0</td>\n",
       "      <td>0</td>\n",
       "      <td>...</td>\n",
       "      <td>0</td>\n",
       "      <td>0</td>\n",
       "      <td>0</td>\n",
       "      <td>0</td>\n",
       "      <td>185151</td>\n",
       "      <td>SO264-09-2</td>\n",
       "      <td>40</td>\n",
       "      <td>40</td>\n",
       "      <td>SO264-09-2_0000   40.0mm  10s  10kV 150uA No-F...</td>\n",
       "      <td>0</td>\n",
       "    </tr>\n",
       "    <tr>\n",
       "      <th>SO264-09-2_00050</th>\n",
       "      <td>0</td>\n",
       "      <td>0</td>\n",
       "      <td>0</td>\n",
       "      <td>0</td>\n",
       "      <td>0</td>\n",
       "      <td>0</td>\n",
       "      <td>0</td>\n",
       "      <td>0</td>\n",
       "      <td>0</td>\n",
       "      <td>0</td>\n",
       "      <td>...</td>\n",
       "      <td>0</td>\n",
       "      <td>0</td>\n",
       "      <td>0</td>\n",
       "      <td>0</td>\n",
       "      <td>186255</td>\n",
       "      <td>SO264-09-2</td>\n",
       "      <td>50</td>\n",
       "      <td>50</td>\n",
       "      <td>SO264-09-2_0000   50.0mm  10s  10kV 150uA No-F...</td>\n",
       "      <td>0</td>\n",
       "    </tr>\n",
       "  </tbody>\n",
       "</table>\n",
       "<p>5 rows × 2054 columns</p>\n",
       "</div>"
      ],
      "text/plain": [
       "                  0  1  2  3  4  5  6  7  8  9  ...  2044  2045  2046  2047  \\\n",
       "composite_id                                    ...                           \n",
       "SO264-09-2_00010  0  0  0  0  0  0  0  0  0  0  ...     0     0     0     0   \n",
       "SO264-09-2_00020  0  0  0  0  0  0  0  0  0  0  ...     0     0     0     0   \n",
       "SO264-09-2_00030  0  0  0  0  0  0  0  0  0  0  ...     0     0     0     0   \n",
       "SO264-09-2_00040  0  0  0  0  0  0  0  0  0  0  ...     0     0     0     0   \n",
       "SO264-09-2_00050  0  0  0  0  0  0  0  0  0  0  ...     0     0     0     0   \n",
       "\n",
       "                     cps        core  composite_depth_mm  section_depth_mm  \\\n",
       "composite_id                                                                 \n",
       "SO264-09-2_00010  174740  SO264-09-2                  10                10   \n",
       "SO264-09-2_00020  176896  SO264-09-2                  20                20   \n",
       "SO264-09-2_00030  183148  SO264-09-2                  30                30   \n",
       "SO264-09-2_00040  185151  SO264-09-2                  40                40   \n",
       "SO264-09-2_00050  186255  SO264-09-2                  50                50   \n",
       "\n",
       "                                                           filename  section  \n",
       "composite_id                                                                  \n",
       "SO264-09-2_00010  SO264-09-2_0000   10.0mm  10s  10kV 150uA No-F...        0  \n",
       "SO264-09-2_00020  SO264-09-2_0000   20.0mm  10s  10kV 150uA No-F...        0  \n",
       "SO264-09-2_00030  SO264-09-2_0000   30.0mm  10s  10kV 150uA No-F...        0  \n",
       "SO264-09-2_00040  SO264-09-2_0000   40.0mm  10s  10kV 150uA No-F...        0  \n",
       "SO264-09-2_00050  SO264-09-2_0000   50.0mm  10s  10kV 150uA No-F...        0  \n",
       "\n",
       "[5 rows x 2054 columns]"
      ]
     },
     "execution_count": 2,
     "metadata": {},
     "output_type": "execute_result"
    }
   ],
   "source": [
    "spe_df = pd.read_csv('data/spe_dataset_20220629.csv', index_col=0)\n",
    "spe_df.head()"
   ]
  },
  {
   "cell_type": "code",
   "execution_count": 3,
   "metadata": {},
   "outputs": [
    {
     "data": {
      "text/plain": [
       "SO264-09-2_00010\n",
       "<class 'numpy.int64'>    2048\n",
       "Name: count, dtype: int64"
      ]
     },
     "execution_count": 3,
     "metadata": {},
     "output_type": "execute_result"
    }
   ],
   "source": [
    "spe_df.iloc[0, :2048].apply(type).value_counts()"
   ]
  },
  {
   "cell_type": "markdown",
   "metadata": {},
   "source": [
    "The spectra are not yet transformed, so I can simply use them."
   ]
  },
  {
   "cell_type": "markdown",
   "metadata": {},
   "source": [
    "### Check the maximum value of channel values"
   ]
  },
  {
   "cell_type": "code",
   "execution_count": 4,
   "metadata": {},
   "outputs": [
    {
     "data": {
      "text/plain": [
       "218656"
      ]
     },
     "execution_count": 4,
     "metadata": {},
     "output_type": "execute_result"
    }
   ],
   "source": [
    "spe_df.iloc[:, :2048].max().max()"
   ]
  },
  {
   "cell_type": "code",
   "execution_count": 5,
   "metadata": {},
   "outputs": [
    {
     "data": {
      "text/plain": [
       "184"
      ]
     },
     "execution_count": 5,
     "metadata": {},
     "output_type": "execute_result"
    }
   ],
   "source": [
    "spe_df.iloc[:, :2048].max().argmax()"
   ]
  },
  {
   "cell_type": "code",
   "execution_count": 6,
   "metadata": {},
   "outputs": [
    {
     "data": {
      "text/plain": [
       "53691"
      ]
     },
     "execution_count": 6,
     "metadata": {},
     "output_type": "execute_result"
    }
   ],
   "source": [
    "spe_df.iloc[:, 184].argmax()"
   ]
  },
  {
   "cell_type": "code",
   "execution_count": 7,
   "metadata": {},
   "outputs": [
    {
     "data": {
      "text/plain": [
       "composite_depth_mm                                                 6410\n",
       "section_depth_mm                                                    520\n",
       "filename              PS97-092-1_0589  520.0mm  10s  10kV 150uA No-F...\n",
       "section                                                               6\n",
       "Name: PS97-092-1_06410, dtype: object"
      ]
     },
     "execution_count": 7,
     "metadata": {},
     "output_type": "execute_result"
    }
   ],
   "source": [
    "spe_df.iloc[53691, -4:]"
   ]
  },
  {
   "cell_type": "markdown",
   "metadata": {},
   "source": [
    "## Export spectra to single files\n",
    "As mentioned in the begining, only the core SO264-15-2 is selected as the pilot work. The spectra are exported to single files in the folder `data/spe/`."
   ]
  },
  {
   "cell_type": "code",
   "execution_count": 8,
   "metadata": {},
   "outputs": [
    {
     "data": {
      "text/html": [
       "<div>\n",
       "<style scoped>\n",
       "    .dataframe tbody tr th:only-of-type {\n",
       "        vertical-align: middle;\n",
       "    }\n",
       "\n",
       "    .dataframe tbody tr th {\n",
       "        vertical-align: top;\n",
       "    }\n",
       "\n",
       "    .dataframe thead th {\n",
       "        text-align: right;\n",
       "    }\n",
       "</style>\n",
       "<table border=\"1\" class=\"dataframe\">\n",
       "  <thead>\n",
       "    <tr style=\"text-align: right;\">\n",
       "      <th></th>\n",
       "      <th>composite_id</th>\n",
       "      <th>0</th>\n",
       "      <th>1</th>\n",
       "      <th>2</th>\n",
       "      <th>3</th>\n",
       "      <th>4</th>\n",
       "      <th>5</th>\n",
       "      <th>6</th>\n",
       "      <th>7</th>\n",
       "      <th>8</th>\n",
       "      <th>...</th>\n",
       "      <th>2044</th>\n",
       "      <th>2045</th>\n",
       "      <th>2046</th>\n",
       "      <th>2047</th>\n",
       "      <th>cps</th>\n",
       "      <th>core</th>\n",
       "      <th>composite_depth_mm</th>\n",
       "      <th>section_depth_mm</th>\n",
       "      <th>filename</th>\n",
       "      <th>section</th>\n",
       "    </tr>\n",
       "  </thead>\n",
       "  <tbody>\n",
       "    <tr>\n",
       "      <th>0</th>\n",
       "      <td>SO264-15-2_00010</td>\n",
       "      <td>0</td>\n",
       "      <td>0</td>\n",
       "      <td>0</td>\n",
       "      <td>0</td>\n",
       "      <td>0</td>\n",
       "      <td>0</td>\n",
       "      <td>0</td>\n",
       "      <td>0</td>\n",
       "      <td>0</td>\n",
       "      <td>...</td>\n",
       "      <td>0</td>\n",
       "      <td>0</td>\n",
       "      <td>0</td>\n",
       "      <td>0</td>\n",
       "      <td>38706</td>\n",
       "      <td>SO264-15-2</td>\n",
       "      <td>10</td>\n",
       "      <td>10</td>\n",
       "      <td>SO264-15-2_0000   10.0mm  10s  10kV 150uA No-F...</td>\n",
       "      <td>0</td>\n",
       "    </tr>\n",
       "    <tr>\n",
       "      <th>1</th>\n",
       "      <td>SO264-15-2_00020</td>\n",
       "      <td>0</td>\n",
       "      <td>0</td>\n",
       "      <td>0</td>\n",
       "      <td>0</td>\n",
       "      <td>0</td>\n",
       "      <td>0</td>\n",
       "      <td>0</td>\n",
       "      <td>0</td>\n",
       "      <td>0</td>\n",
       "      <td>...</td>\n",
       "      <td>0</td>\n",
       "      <td>0</td>\n",
       "      <td>0</td>\n",
       "      <td>0</td>\n",
       "      <td>43223</td>\n",
       "      <td>SO264-15-2</td>\n",
       "      <td>20</td>\n",
       "      <td>20</td>\n",
       "      <td>SO264-15-2_0000   20.0mm  10s  10kV 150uA No-F...</td>\n",
       "      <td>0</td>\n",
       "    </tr>\n",
       "    <tr>\n",
       "      <th>2</th>\n",
       "      <td>SO264-15-2_00030</td>\n",
       "      <td>0</td>\n",
       "      <td>0</td>\n",
       "      <td>0</td>\n",
       "      <td>0</td>\n",
       "      <td>0</td>\n",
       "      <td>0</td>\n",
       "      <td>0</td>\n",
       "      <td>0</td>\n",
       "      <td>0</td>\n",
       "      <td>...</td>\n",
       "      <td>0</td>\n",
       "      <td>0</td>\n",
       "      <td>0</td>\n",
       "      <td>0</td>\n",
       "      <td>107525</td>\n",
       "      <td>SO264-15-2</td>\n",
       "      <td>30</td>\n",
       "      <td>30</td>\n",
       "      <td>SO264-15-2_0000   30.0mm  10s  10kV 150uA No-F...</td>\n",
       "      <td>0</td>\n",
       "    </tr>\n",
       "    <tr>\n",
       "      <th>3</th>\n",
       "      <td>SO264-15-2_00040</td>\n",
       "      <td>0</td>\n",
       "      <td>0</td>\n",
       "      <td>0</td>\n",
       "      <td>0</td>\n",
       "      <td>0</td>\n",
       "      <td>0</td>\n",
       "      <td>0</td>\n",
       "      <td>0</td>\n",
       "      <td>0</td>\n",
       "      <td>...</td>\n",
       "      <td>0</td>\n",
       "      <td>0</td>\n",
       "      <td>0</td>\n",
       "      <td>0</td>\n",
       "      <td>127305</td>\n",
       "      <td>SO264-15-2</td>\n",
       "      <td>40</td>\n",
       "      <td>40</td>\n",
       "      <td>SO264-15-2_0000   40.0mm  10s  10kV 150uA No-F...</td>\n",
       "      <td>0</td>\n",
       "    </tr>\n",
       "    <tr>\n",
       "      <th>4</th>\n",
       "      <td>SO264-15-2_00050</td>\n",
       "      <td>0</td>\n",
       "      <td>0</td>\n",
       "      <td>0</td>\n",
       "      <td>0</td>\n",
       "      <td>0</td>\n",
       "      <td>0</td>\n",
       "      <td>0</td>\n",
       "      <td>0</td>\n",
       "      <td>0</td>\n",
       "      <td>...</td>\n",
       "      <td>0</td>\n",
       "      <td>0</td>\n",
       "      <td>0</td>\n",
       "      <td>0</td>\n",
       "      <td>130242</td>\n",
       "      <td>SO264-15-2</td>\n",
       "      <td>50</td>\n",
       "      <td>50</td>\n",
       "      <td>SO264-15-2_0000   50.0mm  10s  10kV 150uA No-F...</td>\n",
       "      <td>0</td>\n",
       "    </tr>\n",
       "  </tbody>\n",
       "</table>\n",
       "<p>5 rows × 2055 columns</p>\n",
       "</div>"
      ],
      "text/plain": [
       "       composite_id  0  1  2  3  4  5  6  7  8  ...  2044  2045  2046  2047  \\\n",
       "0  SO264-15-2_00010  0  0  0  0  0  0  0  0  0  ...     0     0     0     0   \n",
       "1  SO264-15-2_00020  0  0  0  0  0  0  0  0  0  ...     0     0     0     0   \n",
       "2  SO264-15-2_00030  0  0  0  0  0  0  0  0  0  ...     0     0     0     0   \n",
       "3  SO264-15-2_00040  0  0  0  0  0  0  0  0  0  ...     0     0     0     0   \n",
       "4  SO264-15-2_00050  0  0  0  0  0  0  0  0  0  ...     0     0     0     0   \n",
       "\n",
       "      cps        core  composite_depth_mm  section_depth_mm  \\\n",
       "0   38706  SO264-15-2                  10                10   \n",
       "1   43223  SO264-15-2                  20                20   \n",
       "2  107525  SO264-15-2                  30                30   \n",
       "3  127305  SO264-15-2                  40                40   \n",
       "4  130242  SO264-15-2                  50                50   \n",
       "\n",
       "                                            filename  section  \n",
       "0  SO264-15-2_0000   10.0mm  10s  10kV 150uA No-F...        0  \n",
       "1  SO264-15-2_0000   20.0mm  10s  10kV 150uA No-F...        0  \n",
       "2  SO264-15-2_0000   30.0mm  10s  10kV 150uA No-F...        0  \n",
       "3  SO264-15-2_0000   40.0mm  10s  10kV 150uA No-F...        0  \n",
       "4  SO264-15-2_0000   50.0mm  10s  10kV 150uA No-F...        0  \n",
       "\n",
       "[5 rows x 2055 columns]"
      ]
     },
     "execution_count": 8,
     "metadata": {},
     "output_type": "execute_result"
    }
   ],
   "source": [
    "core = \"SO264-15-2\"\n",
    "spe_df = spe_df[spe_df.core == core].copy()\n",
    "spe_df = spe_df.reset_index(drop=False)\n",
    "spe_df.head()"
   ]
  },
  {
   "cell_type": "code",
   "execution_count": 9,
   "metadata": {},
   "outputs": [],
   "source": [
    "for row in spe_df.iterrows():\n",
    "    row[1][1:2049].to_csv('data/spe/{}.csv'.format(row[0]), index=False, header=False)"
   ]
  },
  {
   "cell_type": "code",
   "execution_count": 10,
   "metadata": {},
   "outputs": [
    {
     "name": "stdout",
     "output_type": "stream",
     "text": [
      "(2048,)\n",
      "int64\n"
     ]
    }
   ],
   "source": [
    "arr = np.loadtxt('data/spe/0.csv', delimiter=',', dtype=int)\n",
    "print(arr.shape)\n",
    "print(arr.dtype)"
   ]
  },
  {
   "cell_type": "markdown",
   "metadata": {},
   "source": [
    "## Build masked tensors\n",
    "I determine the masking ratio to be 40% of the total number of channels, which falls in the range of 20% to 50% in our proposal. The 40% masked channels are randomly selected and replaced by 99999999 in each spectrum. The value, 99999999, is two orders larger than the maximum value of the all spectra (218656). The masked spectra are exported to single files in the folder `data/masked/`."
   ]
  },
  {
   "cell_type": "code",
   "execution_count": 12,
   "metadata": {},
   "outputs": [
    {
     "name": "stdout",
     "output_type": "stream",
     "text": [
      "[99999999        0 99999999 ... 99999999 99999999        0]\n",
      "0.4033203125\n"
     ]
    }
   ],
   "source": [
    "# test outside the loop\n",
    "rand = np.random.rand(arr.shape[0])\n",
    "mask_arr = arr.copy()\n",
    "mask_arr[rand < 0.4] = 99999999\n",
    "\n",
    "print(mask_arr)\n",
    "print((mask_arr == 99999999).sum()/mask_arr.size)\n"
   ]
  },
  {
   "cell_type": "code",
   "execution_count": 13,
   "metadata": {},
   "outputs": [],
   "source": [
    "np.random.seed(24)\n",
    "\n",
    "for row in spe_df.iterrows():\n",
    "    arr = row[1][1:2049].values\n",
    "    rand = np.random.rand(arr.shape[0])\n",
    "    mask = rand < 0.4\n",
    "    arr[mask] = 99999999\n",
    "    #np.save('data/mask/{}.npy'.format(row[0]), mask)\n",
    "    np.savetxt('data/mask/{}.csv'.format(row[0]), mask, delimiter=',', fmt='%5i')\n",
    "    np.savetxt('data/masked/{}.csv'.format(row[0]), arr, delimiter=',', fmt='%d')"
   ]
  },
  {
   "cell_type": "code",
   "execution_count": 14,
   "metadata": {},
   "outputs": [
    {
     "name": "stdout",
     "output_type": "stream",
     "text": [
      "(2048,)\n",
      "int64\n",
      "(2048,)\n",
      "int64\n"
     ]
    }
   ],
   "source": [
    "arr = np.loadtxt('data/masked/0.csv', delimiter=',', dtype=int)\n",
    "print(arr.shape)\n",
    "print(arr.dtype)\n",
    "\n",
    "mask = np.loadtxt('data/mask/0.csv', delimiter=',', dtype=int)\n",
    "print(mask.shape)\n",
    "print(mask.dtype)"
   ]
  },
  {
   "cell_type": "markdown",
   "metadata": {},
   "source": [
    "### Use apply()\n",
    "This is decrepated because I want to export the masks also, which may be needed when calculating the loss. The loss only considers the masked channels as BERT."
   ]
  },
  {
   "cell_type": "code",
   "execution_count": null,
   "metadata": {},
   "outputs": [],
   "source": [
    "def mask(arr, ratio=0.4, value=99999999):\n",
    "    rand = np.random.rand(arr.shape[0])\n",
    "    arr[rand < ratio] = value\n",
    "    return arr"
   ]
  },
  {
   "cell_type": "code",
   "execution_count": null,
   "metadata": {},
   "outputs": [
    {
     "data": {
      "text/html": [
       "<div>\n",
       "<style scoped>\n",
       "    .dataframe tbody tr th:only-of-type {\n",
       "        vertical-align: middle;\n",
       "    }\n",
       "\n",
       "    .dataframe tbody tr th {\n",
       "        vertical-align: top;\n",
       "    }\n",
       "\n",
       "    .dataframe thead th {\n",
       "        text-align: right;\n",
       "    }\n",
       "</style>\n",
       "<table border=\"1\" class=\"dataframe\">\n",
       "  <thead>\n",
       "    <tr style=\"text-align: right;\">\n",
       "      <th></th>\n",
       "      <th>0</th>\n",
       "      <th>1</th>\n",
       "      <th>2</th>\n",
       "      <th>3</th>\n",
       "      <th>4</th>\n",
       "      <th>5</th>\n",
       "      <th>6</th>\n",
       "      <th>7</th>\n",
       "      <th>8</th>\n",
       "      <th>9</th>\n",
       "      <th>...</th>\n",
       "      <th>2038</th>\n",
       "      <th>2039</th>\n",
       "      <th>2040</th>\n",
       "      <th>2041</th>\n",
       "      <th>2042</th>\n",
       "      <th>2043</th>\n",
       "      <th>2044</th>\n",
       "      <th>2045</th>\n",
       "      <th>2046</th>\n",
       "      <th>2047</th>\n",
       "    </tr>\n",
       "  </thead>\n",
       "  <tbody>\n",
       "    <tr>\n",
       "      <th>0</th>\n",
       "      <td>0</td>\n",
       "      <td>0</td>\n",
       "      <td>0</td>\n",
       "      <td>99999999</td>\n",
       "      <td>99999999</td>\n",
       "      <td>0</td>\n",
       "      <td>0</td>\n",
       "      <td>99999999</td>\n",
       "      <td>99999999</td>\n",
       "      <td>99999999</td>\n",
       "      <td>...</td>\n",
       "      <td>0</td>\n",
       "      <td>99999999</td>\n",
       "      <td>99999999</td>\n",
       "      <td>99999999</td>\n",
       "      <td>0</td>\n",
       "      <td>0</td>\n",
       "      <td>0</td>\n",
       "      <td>99999999</td>\n",
       "      <td>99999999</td>\n",
       "      <td>99999999</td>\n",
       "    </tr>\n",
       "    <tr>\n",
       "      <th>1</th>\n",
       "      <td>0</td>\n",
       "      <td>0</td>\n",
       "      <td>0</td>\n",
       "      <td>0</td>\n",
       "      <td>0</td>\n",
       "      <td>0</td>\n",
       "      <td>99999999</td>\n",
       "      <td>0</td>\n",
       "      <td>0</td>\n",
       "      <td>0</td>\n",
       "      <td>...</td>\n",
       "      <td>99999999</td>\n",
       "      <td>99999999</td>\n",
       "      <td>99999999</td>\n",
       "      <td>0</td>\n",
       "      <td>99999999</td>\n",
       "      <td>99999999</td>\n",
       "      <td>0</td>\n",
       "      <td>0</td>\n",
       "      <td>99999999</td>\n",
       "      <td>99999999</td>\n",
       "    </tr>\n",
       "    <tr>\n",
       "      <th>2</th>\n",
       "      <td>0</td>\n",
       "      <td>99999999</td>\n",
       "      <td>0</td>\n",
       "      <td>0</td>\n",
       "      <td>0</td>\n",
       "      <td>99999999</td>\n",
       "      <td>0</td>\n",
       "      <td>99999999</td>\n",
       "      <td>0</td>\n",
       "      <td>0</td>\n",
       "      <td>...</td>\n",
       "      <td>99999999</td>\n",
       "      <td>0</td>\n",
       "      <td>99999999</td>\n",
       "      <td>0</td>\n",
       "      <td>0</td>\n",
       "      <td>0</td>\n",
       "      <td>99999999</td>\n",
       "      <td>99999999</td>\n",
       "      <td>0</td>\n",
       "      <td>0</td>\n",
       "    </tr>\n",
       "    <tr>\n",
       "      <th>3</th>\n",
       "      <td>0</td>\n",
       "      <td>0</td>\n",
       "      <td>0</td>\n",
       "      <td>99999999</td>\n",
       "      <td>0</td>\n",
       "      <td>99999999</td>\n",
       "      <td>99999999</td>\n",
       "      <td>99999999</td>\n",
       "      <td>99999999</td>\n",
       "      <td>0</td>\n",
       "      <td>...</td>\n",
       "      <td>0</td>\n",
       "      <td>0</td>\n",
       "      <td>99999999</td>\n",
       "      <td>0</td>\n",
       "      <td>99999999</td>\n",
       "      <td>99999999</td>\n",
       "      <td>0</td>\n",
       "      <td>99999999</td>\n",
       "      <td>99999999</td>\n",
       "      <td>99999999</td>\n",
       "    </tr>\n",
       "    <tr>\n",
       "      <th>4</th>\n",
       "      <td>0</td>\n",
       "      <td>0</td>\n",
       "      <td>0</td>\n",
       "      <td>0</td>\n",
       "      <td>0</td>\n",
       "      <td>99999999</td>\n",
       "      <td>0</td>\n",
       "      <td>99999999</td>\n",
       "      <td>0</td>\n",
       "      <td>99999999</td>\n",
       "      <td>...</td>\n",
       "      <td>99999999</td>\n",
       "      <td>99999999</td>\n",
       "      <td>0</td>\n",
       "      <td>99999999</td>\n",
       "      <td>0</td>\n",
       "      <td>99999999</td>\n",
       "      <td>0</td>\n",
       "      <td>0</td>\n",
       "      <td>99999999</td>\n",
       "      <td>0</td>\n",
       "    </tr>\n",
       "  </tbody>\n",
       "</table>\n",
       "<p>5 rows × 2048 columns</p>\n",
       "</div>"
      ],
      "text/plain": [
       "   0         1  2         3         4         5         6         7         8  \\\n",
       "0  0         0  0  99999999  99999999         0         0  99999999  99999999   \n",
       "1  0         0  0         0         0         0  99999999         0         0   \n",
       "2  0  99999999  0         0         0  99999999         0  99999999         0   \n",
       "3  0         0  0  99999999         0  99999999  99999999  99999999  99999999   \n",
       "4  0         0  0         0         0  99999999         0  99999999         0   \n",
       "\n",
       "          9  ...      2038      2039      2040      2041      2042      2043  \\\n",
       "0  99999999  ...         0  99999999  99999999  99999999         0         0   \n",
       "1         0  ...  99999999  99999999  99999999         0  99999999  99999999   \n",
       "2         0  ...  99999999         0  99999999         0         0         0   \n",
       "3         0  ...         0         0  99999999         0  99999999  99999999   \n",
       "4  99999999  ...  99999999  99999999         0  99999999         0  99999999   \n",
       "\n",
       "       2044      2045      2046      2047  \n",
       "0         0  99999999  99999999  99999999  \n",
       "1         0         0  99999999  99999999  \n",
       "2  99999999  99999999         0         0  \n",
       "3         0  99999999  99999999  99999999  \n",
       "4         0         0  99999999         0  \n",
       "\n",
       "[5 rows x 2048 columns]"
      ]
     },
     "metadata": {},
     "output_type": "display_data"
    }
   ],
   "source": [
    "np.random.seed(24)\n",
    "spe_m_df = spe_df.iloc[:, 1:2049].apply(mask, axis=1)\n",
    "spe_m_df.head()"
   ]
  },
  {
   "cell_type": "code",
   "execution_count": null,
   "metadata": {},
   "outputs": [],
   "source": [
    "for row in spe_m_df.iterrows():\n",
    "    #row[1].to_csv('data/masked/{}.csv'.format(row[0]), index=False, header=False)"
   ]
  },
  {
   "cell_type": "markdown",
   "metadata": {},
   "source": [
    "## Build annotations file\n",
    "This file contains the information of the spectra files and the corresponding index."
   ]
  },
  {
   "cell_type": "code",
   "execution_count": 15,
   "metadata": {},
   "outputs": [
    {
     "data": {
      "text/plain": [
       "0    0.csv\n",
       "1    1.csv\n",
       "2    2.csv\n",
       "3    3.csv\n",
       "4    4.csv\n",
       "Name: dirname, dtype: object"
      ]
     },
     "execution_count": 15,
     "metadata": {},
     "output_type": "execute_result"
    }
   ],
   "source": [
    "spe_df['dirname'] = ['{}.csv'.format(x) for x in spe_df.index]\n",
    "spe_df['dirname'].head()"
   ]
  },
  {
   "cell_type": "code",
   "execution_count": 16,
   "metadata": {},
   "outputs": [
    {
     "data": {
      "text/plain": [
       "Index(['composite_id', '0', '1', '2', '3', '4', '5', '6', '7', '8',\n",
       "       ...\n",
       "       '2045', '2046', '2047', 'cps', 'core', 'composite_depth_mm',\n",
       "       'section_depth_mm', 'filename', 'section', 'dirname'],\n",
       "      dtype='object', length=2056)"
      ]
     },
     "execution_count": 16,
     "metadata": {},
     "output_type": "execute_result"
    }
   ],
   "source": [
    "spe_df.columns"
   ]
  },
  {
   "cell_type": "code",
   "execution_count": 17,
   "metadata": {},
   "outputs": [
    {
     "data": {
      "text/html": [
       "<div>\n",
       "<style scoped>\n",
       "    .dataframe tbody tr th:only-of-type {\n",
       "        vertical-align: middle;\n",
       "    }\n",
       "\n",
       "    .dataframe tbody tr th {\n",
       "        vertical-align: top;\n",
       "    }\n",
       "\n",
       "    .dataframe thead th {\n",
       "        text-align: right;\n",
       "    }\n",
       "</style>\n",
       "<table border=\"1\" class=\"dataframe\">\n",
       "  <thead>\n",
       "    <tr style=\"text-align: right;\">\n",
       "      <th></th>\n",
       "      <th>dirname</th>\n",
       "      <th>composite_id</th>\n",
       "      <th>cps</th>\n",
       "      <th>core</th>\n",
       "      <th>composite_depth_mm</th>\n",
       "      <th>section_depth_mm</th>\n",
       "      <th>filename</th>\n",
       "      <th>section</th>\n",
       "    </tr>\n",
       "  </thead>\n",
       "  <tbody>\n",
       "    <tr>\n",
       "      <th>0</th>\n",
       "      <td>0.csv</td>\n",
       "      <td>SO264-15-2_00010</td>\n",
       "      <td>38706</td>\n",
       "      <td>SO264-15-2</td>\n",
       "      <td>10</td>\n",
       "      <td>10</td>\n",
       "      <td>SO264-15-2_0000   10.0mm  10s  10kV 150uA No-F...</td>\n",
       "      <td>0</td>\n",
       "    </tr>\n",
       "    <tr>\n",
       "      <th>1</th>\n",
       "      <td>1.csv</td>\n",
       "      <td>SO264-15-2_00020</td>\n",
       "      <td>43223</td>\n",
       "      <td>SO264-15-2</td>\n",
       "      <td>20</td>\n",
       "      <td>20</td>\n",
       "      <td>SO264-15-2_0000   20.0mm  10s  10kV 150uA No-F...</td>\n",
       "      <td>0</td>\n",
       "    </tr>\n",
       "    <tr>\n",
       "      <th>2</th>\n",
       "      <td>2.csv</td>\n",
       "      <td>SO264-15-2_00030</td>\n",
       "      <td>107525</td>\n",
       "      <td>SO264-15-2</td>\n",
       "      <td>30</td>\n",
       "      <td>30</td>\n",
       "      <td>SO264-15-2_0000   30.0mm  10s  10kV 150uA No-F...</td>\n",
       "      <td>0</td>\n",
       "    </tr>\n",
       "    <tr>\n",
       "      <th>3</th>\n",
       "      <td>3.csv</td>\n",
       "      <td>SO264-15-2_00040</td>\n",
       "      <td>127305</td>\n",
       "      <td>SO264-15-2</td>\n",
       "      <td>40</td>\n",
       "      <td>40</td>\n",
       "      <td>SO264-15-2_0000   40.0mm  10s  10kV 150uA No-F...</td>\n",
       "      <td>0</td>\n",
       "    </tr>\n",
       "    <tr>\n",
       "      <th>4</th>\n",
       "      <td>4.csv</td>\n",
       "      <td>SO264-15-2_00050</td>\n",
       "      <td>130242</td>\n",
       "      <td>SO264-15-2</td>\n",
       "      <td>50</td>\n",
       "      <td>50</td>\n",
       "      <td>SO264-15-2_0000   50.0mm  10s  10kV 150uA No-F...</td>\n",
       "      <td>0</td>\n",
       "    </tr>\n",
       "    <tr>\n",
       "      <th>...</th>\n",
       "      <td>...</td>\n",
       "      <td>...</td>\n",
       "      <td>...</td>\n",
       "      <td>...</td>\n",
       "      <td>...</td>\n",
       "      <td>...</td>\n",
       "      <td>...</td>\n",
       "      <td>...</td>\n",
       "    </tr>\n",
       "    <tr>\n",
       "      <th>1335</th>\n",
       "      <td>1335.csv</td>\n",
       "      <td>SO264-15-2_14360</td>\n",
       "      <td>144280</td>\n",
       "      <td>SO264-15-2</td>\n",
       "      <td>14360</td>\n",
       "      <td>880</td>\n",
       "      <td>SO264-15-2_1348  880.0mm  10s  10kV 150uA No-F...</td>\n",
       "      <td>13</td>\n",
       "    </tr>\n",
       "    <tr>\n",
       "      <th>1336</th>\n",
       "      <td>1336.csv</td>\n",
       "      <td>SO264-15-2_14370</td>\n",
       "      <td>56052</td>\n",
       "      <td>SO264-15-2</td>\n",
       "      <td>14370</td>\n",
       "      <td>890</td>\n",
       "      <td>SO264-15-2_1348  890.0mm  10s  10kV 150uA No-F...</td>\n",
       "      <td>13</td>\n",
       "    </tr>\n",
       "    <tr>\n",
       "      <th>1337</th>\n",
       "      <td>1337.csv</td>\n",
       "      <td>SO264-15-2_14380</td>\n",
       "      <td>42094</td>\n",
       "      <td>SO264-15-2</td>\n",
       "      <td>14380</td>\n",
       "      <td>900</td>\n",
       "      <td>SO264-15-2_1348  900.0mm  10s  10kV 150uA No-F...</td>\n",
       "      <td>13</td>\n",
       "    </tr>\n",
       "    <tr>\n",
       "      <th>1338</th>\n",
       "      <td>1338.csv</td>\n",
       "      <td>SO264-15-2_14390</td>\n",
       "      <td>34444</td>\n",
       "      <td>SO264-15-2</td>\n",
       "      <td>14390</td>\n",
       "      <td>910</td>\n",
       "      <td>SO264-15-2_1348  910.0mm  10s  10kV 150uA No-F...</td>\n",
       "      <td>13</td>\n",
       "    </tr>\n",
       "    <tr>\n",
       "      <th>1339</th>\n",
       "      <td>1339.csv</td>\n",
       "      <td>SO264-15-2_14480</td>\n",
       "      <td>35575</td>\n",
       "      <td>SO264-15-2</td>\n",
       "      <td>14480</td>\n",
       "      <td>1000</td>\n",
       "      <td>SO264-15-2_1348 1000.0mm  10s  10kV 150uA No-F...</td>\n",
       "      <td>13</td>\n",
       "    </tr>\n",
       "  </tbody>\n",
       "</table>\n",
       "<p>1340 rows × 8 columns</p>\n",
       "</div>"
      ],
      "text/plain": [
       "       dirname      composite_id     cps        core  composite_depth_mm  \\\n",
       "0        0.csv  SO264-15-2_00010   38706  SO264-15-2                  10   \n",
       "1        1.csv  SO264-15-2_00020   43223  SO264-15-2                  20   \n",
       "2        2.csv  SO264-15-2_00030  107525  SO264-15-2                  30   \n",
       "3        3.csv  SO264-15-2_00040  127305  SO264-15-2                  40   \n",
       "4        4.csv  SO264-15-2_00050  130242  SO264-15-2                  50   \n",
       "...        ...               ...     ...         ...                 ...   \n",
       "1335  1335.csv  SO264-15-2_14360  144280  SO264-15-2               14360   \n",
       "1336  1336.csv  SO264-15-2_14370   56052  SO264-15-2               14370   \n",
       "1337  1337.csv  SO264-15-2_14380   42094  SO264-15-2               14380   \n",
       "1338  1338.csv  SO264-15-2_14390   34444  SO264-15-2               14390   \n",
       "1339  1339.csv  SO264-15-2_14480   35575  SO264-15-2               14480   \n",
       "\n",
       "      section_depth_mm                                           filename  \\\n",
       "0                   10  SO264-15-2_0000   10.0mm  10s  10kV 150uA No-F...   \n",
       "1                   20  SO264-15-2_0000   20.0mm  10s  10kV 150uA No-F...   \n",
       "2                   30  SO264-15-2_0000   30.0mm  10s  10kV 150uA No-F...   \n",
       "3                   40  SO264-15-2_0000   40.0mm  10s  10kV 150uA No-F...   \n",
       "4                   50  SO264-15-2_0000   50.0mm  10s  10kV 150uA No-F...   \n",
       "...                ...                                                ...   \n",
       "1335               880  SO264-15-2_1348  880.0mm  10s  10kV 150uA No-F...   \n",
       "1336               890  SO264-15-2_1348  890.0mm  10s  10kV 150uA No-F...   \n",
       "1337               900  SO264-15-2_1348  900.0mm  10s  10kV 150uA No-F...   \n",
       "1338               910  SO264-15-2_1348  910.0mm  10s  10kV 150uA No-F...   \n",
       "1339              1000  SO264-15-2_1348 1000.0mm  10s  10kV 150uA No-F...   \n",
       "\n",
       "      section  \n",
       "0           0  \n",
       "1           0  \n",
       "2           0  \n",
       "3           0  \n",
       "4           0  \n",
       "...       ...  \n",
       "1335       13  \n",
       "1336       13  \n",
       "1337       13  \n",
       "1338       13  \n",
       "1339       13  \n",
       "\n",
       "[1340 rows x 8 columns]"
      ]
     },
     "execution_count": 17,
     "metadata": {},
     "output_type": "execute_result"
    }
   ],
   "source": [
    "spe_df[['dirname', 'composite_id', 'cps', 'core', \n",
    "       'composite_depth_mm', 'section_depth_mm', \n",
    "       'filename', 'section']]"
   ]
  },
  {
   "cell_type": "code",
   "execution_count": 18,
   "metadata": {},
   "outputs": [],
   "source": [
    "spe_df[['dirname', 'composite_id', 'cps', 'core', \n",
    "       'composite_depth_mm', 'section_depth_mm', \n",
    "       'filename', 'section']].to_csv(f'data/info_{date}.csv', index=False)"
   ]
  },
  {
   "cell_type": "markdown",
   "metadata": {},
   "source": [
    "## Build dataset class "
   ]
  },
  {
   "cell_type": "code",
   "execution_count": 19,
   "metadata": {},
   "outputs": [],
   "source": [
    "import os\n",
    "import pandas as pd\n",
    "from torch.utils.data import Dataset\n",
    "\n",
    "class CustomImageDataset(Dataset):\n",
    "    # We don't need the labels and transform for now\n",
    "    def __init__(self, annotations_file, input_dir, target_dir, mask_dir):\n",
    "        \"\"\"\n",
    "        input_dir: directory with masked spe files\n",
    "        target_dir: directory with original spe files\n",
    "        mask_dir: directory with boolean mask files\n",
    "        \"\"\"\n",
    "        self.spe_info = pd.read_csv(annotations_file)\n",
    "        self.input_dir = input_dir\n",
    "        self.target_dir = target_dir\n",
    "        self.mask_dir = mask_dir\n",
    "        \n",
    "    def __len__(self):\n",
    "        return len(self.spe_info)\n",
    "\n",
    "    def __getitem__(self, idx):\n",
    "        input_path = os.path.join(self.input_dir, self.spe_info.iloc[idx, 0])\n",
    "        target_path = os.path.join(self.target_dir, self.spe_info.iloc[idx, 0])\n",
    "        mask_path = os.path.join(self.mask_dir, self.spe_info.iloc[idx, 0])\n",
    "\n",
    "        input_spe = np.loadtxt(input_path, delimiter=',', dtype=int)\n",
    "        target_spe = np.loadtxt(target_path, delimiter=',', dtype=int)\n",
    "        mask = np.loadtxt(mask_path, delimiter=',', dtype=int)\n",
    "\n",
    "        output = {'input_spe': input_spe,\n",
    "                  'target_spe': target_spe,\n",
    "                  'mask': mask}\n",
    "  \n",
    "        return output"
   ]
  },
  {
   "cell_type": "markdown",
   "metadata": {},
   "source": [
    "# Play around"
   ]
  },
  {
   "cell_type": "code",
   "execution_count": 20,
   "metadata": {},
   "outputs": [
    {
     "name": "stdout",
     "output_type": "stream",
     "text": [
      "1340\n",
      "{'input_spe': array([       0,        0,        0, ..., 99999999, 99999999, 99999999]), 'target_spe': array([0, 0, 0, ..., 0, 0, 0]), 'mask': array([0, 0, 0, ..., 1, 1, 1])}\n",
      "1072\n",
      "268\n"
     ]
    }
   ],
   "source": [
    "from torch import Generator\n",
    "from torch.utils.data import random_split\n",
    "\n",
    "dataset = CustomImageDataset('data/info_20231121.csv', 'data/masked', 'data/spe', 'data/mask')\n",
    "data_train, data_test = random_split(dataset, [0.8, 0.2], generator=Generator().manual_seed(24))\n",
    "\n",
    "print(len(dataset))\n",
    "print(dataset[0])\n",
    "print(len(data_train))\n",
    "print(len(data_test))"
   ]
  },
  {
   "cell_type": "code",
   "execution_count": 26,
   "metadata": {},
   "outputs": [
    {
     "data": {
      "text/plain": [
       "0.4228515625"
      ]
     },
     "execution_count": 26,
     "metadata": {},
     "output_type": "execute_result"
    }
   ],
   "source": [
    "data_train[0]['mask'].sum()/data_train[0]['mask'].size"
   ]
  },
  {
   "cell_type": "markdown",
   "metadata": {},
   "source": [
    "0 in mask is not masked. 1 in mask is masked."
   ]
  },
  {
   "cell_type": "code",
   "execution_count": 138,
   "metadata": {},
   "outputs": [
    {
     "name": "stdout",
     "output_type": "stream",
     "text": [
      "torch.Size([64, 2048])\n",
      "{'input_spe': tensor([[99999999,        0, 99999999,  ...,        0, 99999999, 99999999],\n",
      "        [99999999, 99999999, 99999999,  ...,        0, 99999999,        0],\n",
      "        [99999999, 99999999, 99999999,  ...,        0,        0,        0],\n",
      "        ...,\n",
      "        [99999999,        0,        0,  ..., 99999999, 99999999, 99999999],\n",
      "        [99999999,        0,        0,  ..., 99999999,        0, 99999999],\n",
      "        [       0,        0,        0,  ..., 99999999,        0, 99999999]]), 'target_spe': tensor([[0, 0, 0,  ..., 0, 0, 0],\n",
      "        [0, 0, 0,  ..., 0, 0, 0],\n",
      "        [0, 0, 0,  ..., 0, 0, 0],\n",
      "        ...,\n",
      "        [0, 0, 0,  ..., 0, 0, 0],\n",
      "        [0, 0, 0,  ..., 0, 0, 0],\n",
      "        [0, 0, 0,  ..., 0, 0, 0]]), 'mask': tensor([[1, 0, 1,  ..., 0, 1, 1],\n",
      "        [1, 1, 1,  ..., 0, 1, 0],\n",
      "        [1, 1, 1,  ..., 0, 0, 0],\n",
      "        ...,\n",
      "        [1, 0, 0,  ..., 1, 1, 1],\n",
      "        [1, 0, 0,  ..., 1, 0, 1],\n",
      "        [0, 0, 0,  ..., 1, 0, 1]])}\n"
     ]
    }
   ],
   "source": [
    "from torch.utils.data import DataLoader\n",
    "\n",
    "train_dataloader = DataLoader(data_train, batch_size=64, shuffle=True)\n",
    "output = next(iter(train_dataloader))\n",
    "print(output['input_spe'].size())\n",
    "print(output)"
   ]
  }
 ],
 "metadata": {
  "kernelspec": {
   "display_name": "Python 3",
   "language": "python",
   "name": "python3"
  },
  "language_info": {
   "codemirror_mode": {
    "name": "ipython",
    "version": 3
   },
   "file_extension": ".py",
   "mimetype": "text/x-python",
   "name": "python",
   "nbconvert_exporter": "python",
   "pygments_lexer": "ipython3",
   "version": "3.11.6"
  }
 },
 "nbformat": 4,
 "nbformat_minor": 2
}

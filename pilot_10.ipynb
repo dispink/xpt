{
 "cells": [
  {
   "cell_type": "markdown",
   "metadata": {},
   "source": [
    "# Calculate ${R^2}$ using the whole validation set\n",
    "Since R2 is more intuitive in the geochemistry filed, I'll calculate both standardize and log transform models' R2. They all use the modified loss function (include both masked and unmasked spectrum). Meanwhile, comparing to using a single spectrum in `pilot_09.ipynb`, this notebook intends to use the whole validation set to evaluate the model performance, which should be more robust."
   ]
  },
  {
   "cell_type": "code",
   "execution_count": 1,
   "metadata": {},
   "outputs": [],
   "source": [
    "import torch\n",
    "from test_loss import get_dataloader, evaluate\n",
    "from util.datasets import standardize, log_transform\n",
    "from models_mae_loss import mae_vit_base_patch16\n",
    "import matplotlib.pyplot as plt\n",
    "import numpy as np"
   ]
  },
  {
   "cell_type": "markdown",
   "metadata": {},
   "source": [
    "## Normalized spaces\n",
    "We first calculate the R2 in each normalized space.\n",
    "\n",
    "#### Function\n",
    "This is the function to evaluate the baseline model, i.e. the model that predicts the mean of the dataset. The loss of this model is equivalent to the variance of the dataset. Apart from this way of calculation (calculating the whole dataset at once), I have tried to calculate the loss in each batch and then average them. However, the results are almost the same."
   ]
  },
  {
   "cell_type": "code",
   "execution_count": 7,
   "metadata": {},
   "outputs": [],
   "source": [
    "def evaluate_base(dataloader):\n",
    "    data = torch.empty((0, 2048))\n",
    "\n",
    "    with torch.no_grad():\n",
    "        for samples in dataloader:\n",
    "            data = torch.cat((data, samples), 0)\n",
    "        mean = data.mean()\n",
    "        loss = (data-mean)**2\n",
    "        loss = loss.mean()\n",
    "    return loss.item()\n",
    "\n",
    "    #total_loss = 0.\n",
    "    #with torch.no_grad():\n",
    "    #    for samples in dataloader:\n",
    "    #        mean = samples.mean(dim=1, keepdim=True)\n",
    "    #        loss = (mean - samples)**2\n",
    "    #        loss = loss.mean()\n",
    "    #        total_loss += loss.item()\n",
    "    #retrun total_loss / len(dataloader['val'])"
   ]
  },
  {
   "cell_type": "markdown",
   "metadata": {},
   "source": [
    "### Standardized data"
   ]
  },
  {
   "cell_type": "code",
   "execution_count": 176,
   "metadata": {},
   "outputs": [
    {
     "name": "stdout",
     "output_type": "stream",
     "text": [
      "0.008\n",
      "1.0\n",
      "R2: 0.99\n"
     ]
    }
   ],
   "source": [
    "dataloader = get_dataloader(batch_size=64, transform=standardize)\n",
    "model = mae_vit_base_patch16().to('cuda')\n",
    "model.load_state_dict(torch.load('models/mae_vit_base_patch16_std_1e-05_20231212.pth'))\n",
    "\n",
    "model_mse = evaluate(model, dataloader['val'])\n",
    "print(round(model_mse, 4))\n",
    "\n",
    "base_mse = evaluate_base(dataloader['val'])\n",
    "print(round(base_mse, 4))\n",
    "\n",
    "print(f'R2: {round(1 - model_mse / base_mse, 2)}')"
   ]
  },
  {
   "cell_type": "markdown",
   "metadata": {},
   "source": [
    "### Log transform data"
   ]
  },
  {
   "cell_type": "code",
   "execution_count": 177,
   "metadata": {},
   "outputs": [
    {
     "name": "stdout",
     "output_type": "stream",
     "text": [
      "0.0467\n",
      "8.5319\n",
      "R2: 0.99\n"
     ]
    }
   ],
   "source": [
    "dataloader = get_dataloader(batch_size=64, transform=log_transform)\n",
    "model = mae_vit_base_patch16().to('cuda')\n",
    "model.load_state_dict(torch.load('models/mae_vit_base_patch16_ln_0.0001_20231212.pth'))\n",
    "\n",
    "model_mse = evaluate(model, dataloader['val'])\n",
    "print(round(model_mse, 4))\n",
    "\n",
    "base_mse = evaluate_base(dataloader['val'])\n",
    "print(round(base_mse, 4))\n",
    "\n",
    "print(f'R2: {round(1 - model_mse / base_mse, 2)}')"
   ]
  },
  {
   "cell_type": "markdown",
   "metadata": {},
   "source": [
    "Both perform excellent in their own normalized space. \n",
    "## Original spaces\n",
    "Then we calculate the R2 in the original space."
   ]
  },
  {
   "cell_type": "code",
   "execution_count": 3,
   "metadata": {},
   "outputs": [],
   "source": [
    "def inverse_standardize(raws, pred_un):\n",
    "    mean = raws.mean(dim=1, keepdim=True)\n",
    "    std = raws.std(dim=1, keepdim=True)\n",
    "    return pred_un * std + mean\n",
    "\n",
    "def inverse_log(raws, pred_un):\n",
    "    # raws is not used, just to be consistent with other inverse functions\n",
    "    return torch.exp(pred_un) - 1\n",
    "\n",
    "def get_mse(true_values, pred_values):\n",
    "    # all in tensor\n",
    "    loss = (true_values - pred_values)**2\n",
    "    loss = loss.mean()\n",
    "    return loss.item()\n",
    "\n",
    "def evaluate_inraw(model, dataloader_raw, dataloader_norm, inverse=None, device='cuda'):\n",
    "    total_loss = 0.\n",
    "    model.eval()  # turn on evaluation mode\n",
    "\n",
    "    with torch.no_grad():\n",
    "        for (raws, norms) in zip(dataloader_raw, dataloader_norm):\n",
    "            raws = raws.to(device, non_blocking=True, dtype=torch.float)\n",
    "            norms = norms.to(device, non_blocking=True, dtype=torch.float)\n",
    "\n",
    "            _, pred, _ = model(norms)    # in normalized space\n",
    "            pred_un = model.unpatchify(pred)\n",
    "            if inverse:\n",
    "                pred_un = inverse(raws, pred_un)    # in raw space\n",
    "            loss = get_mse(raws, pred_un)\n",
    "            total_loss += loss\n",
    "    return total_loss / len(dataloader_raw)"
   ]
  },
  {
   "cell_type": "code",
   "execution_count": 14,
   "metadata": {},
   "outputs": [
    {
     "name": "stdout",
     "output_type": "stream",
     "text": [
      "base\n",
      "MSE: 19345760.0\n",
      "R2: 0.0\n",
      "--------------------\n",
      "first\n",
      "MSE: 19238904.4\n",
      "R2: 0.01\n",
      "--------------------\n",
      "std\n",
      "MSE: 896617.1\n",
      "R2: 0.95\n",
      "--------------------\n",
      "ln\n",
      "MSE: 3419811.4\n",
      "R2: 0.82\n",
      "--------------------\n"
     ]
    }
   ],
   "source": [
    "# the base model\n",
    "dataloader_raw = get_dataloader(batch_size=64, transform=None)\n",
    "mse_base = evaluate_base(dataloader_raw['val'])\n",
    "\n",
    "# the first model without converging\n",
    "model = mae_vit_base_patch16().to('cuda')\n",
    "model.load_state_dict(torch.load('models/mae_vit_base_patch16_20231130.pth'))\n",
    "mse_first = evaluate_inraw(model, dataloader_raw['val'], dataloader_raw['val'], inverse=None)\n",
    "\n",
    "# the model with standardization\n",
    "dataloader_std = get_dataloader(batch_size=64, transform=standardize)\n",
    "model = mae_vit_base_patch16().to('cuda')\n",
    "model.load_state_dict(torch.load('models/mae_vit_base_patch16_std_1e-05_20231212.pth'))\n",
    "mse_std = evaluate_inraw(model, dataloader_raw['val'], dataloader_std['val'], inverse=inverse_standardize)\n",
    "\n",
    "# the model with log transform\n",
    "dataloader_ln = get_dataloader(batch_size=64, transform=log_transform)\n",
    "model = mae_vit_base_patch16().to('cuda')\n",
    "model.load_state_dict(torch.load('models/mae_vit_base_patch16_ln_0.0001_20231212.pth'))\n",
    "mse_ln = evaluate_inraw(model, dataloader_raw['val'], dataloader_ln['val'], inverse=inverse_log)\n",
    "\n",
    "for model, mse in zip(['base', 'first', 'std', 'ln'], [mse_base, mse_first, mse_std, mse_ln]):\n",
    "    print(model)\n",
    "    print(f'MSE: {round(mse, 1)}')\n",
    "    print(f'R2: {round(1 - mse / mse_base, 2)}')\n",
    "    print('-'*20)"
   ]
  },
  {
   "cell_type": "code",
   "execution_count": 20,
   "metadata": {},
   "outputs": [
    {
     "name": "stdout",
     "output_type": "stream",
     "text": [
      "0.05\n",
      "0.26\n"
     ]
    }
   ],
   "source": [
    "print(round(896617/19238904, 2))\n",
    "print(round(896617/3419811, 2))"
   ]
  },
  {
   "cell_type": "markdown",
   "metadata": {},
   "source": [
    "Now we have the champion, which is the model trained on the **standardized data**. In this more robust analysis (using the whole validation set), the two model perform almost the same in their own normalized space, but the model trained on the standardized data performs better in the original space. This optimal model greatly surpasses the first model trained on the original data without converging.\n",
    "\n",
    "**NOTE:** Although R2 is a common metric to compare performance in different spaces, it has the drawback that it can be influenced by the data distribution, which is due to its normalization using data variance as the denominator It's better to use R2 when the data is in a normal distribution. But as shown in below, neither the original data nor the log transform data is in a normal distribution. The standardized data is of course not normal-distributed because it's  just a linear transform of the original data. Therefore, to be more statistically-correct, we should use mean-squared-error (MSE) in the original space to compare the performance of models trained on different spaces. But it's fine to use R2 if people like it more because the conclusion is the same: std>log>original."
   ]
  },
  {
   "cell_type": "code",
   "execution_count": null,
   "metadata": {},
   "outputs": [],
   "source": [
    "# yeah I know it's a bit dumb to do this but I'm lazy\n",
    "def get_wholedata(dataloader):\n",
    "    data = torch.empty((0, 2048))\n",
    "    with torch.no_grad():\n",
    "        for samples in dataloader:\n",
    "            data = torch.cat((data, samples), 0)\n",
    "    return data.numpy().flatten()"
   ]
  },
  {
   "cell_type": "code",
   "execution_count": null,
   "metadata": {},
   "outputs": [],
   "source": [
    "data = {}\n",
    "for datatype, transform in zip(['raw', 'std', 'ln'], [None, standardize, log_transform]):\n",
    "    dataloader = get_dataloader(batch_size=64, transform=transform)\n",
    "    data[datatype] = get_wholedata(dataloader['val'])"
   ]
  },
  {
   "cell_type": "code",
   "execution_count": null,
   "metadata": {},
   "outputs": [
    {
     "data": {
      "image/png": "[encoded data removed]",
      "text/plain": [
       "<Figure size 1000x400 with 3 Axes>"
      ]
     },
     "metadata": {},
     "output_type": "display_data"
    }
   ],
   "source": [
    "fig, axes = plt.subplots(1, 3, figsize=(10, 4), sharey='row')\n",
    "for ax, datatype in zip(axes, ['raw', 'std', 'ln']):\n",
    "    ax.hist(data[datatype], bins=100)\n",
    "    ax.set_xlabel(datatype)\n",
    "\n",
    "axes[0].set_ylabel('Frequency')\n",
    "plt.tight_layout();"
   ]
  },
  {
   "cell_type": "markdown",
   "metadata": {},
   "source": [
    "# Next step?\n",
    "Hsuan-Tien suggested me to fix any error or weirdness in the pilot study before moving on to the whole dataset. Those observed problems are listed below:\n",
    "1.  The model couldn't converge.\n",
    "2.  The model couldn't predict the extreme high counts.\n",
    "3.  The model had bad predictions on the unmasked parts. BTW, this didn't happen when the transformer in the model was replaced by fully connected layers.\n",
    "\n",
    "After testing if mask ratio too high, model too complex, data too noisy, learning rate too small, data variance too large or too skewed, I found that the model couldn't converge because the data variance was too large. Hence, by adjusting learning rate or normalizing data, the model converges. The bad prediction of extrem high counts is consequently solved. The skewness of the data is relatively minor comparing to the variance because the standardization, which can't deal with the skewness, works better than the logrithm transformation, which can deal with the skewness. The bad prediction on the unmasked parts is fixed by including the unmasked parts of spectrum into the loss function. The optimal model has overcome all the problems mentioned above and has exellent performance in the validation set. It has only 5% MSE of the first model without converging and 26% MSE of the log transform model. The visualzation of the good fit of spectrum is shown in `pilot_09.ipynb`.\n",
    "\n",
    "The optimal settings that modified from the original MAE codes:\n",
    "-  Standardize data as the pre-processing step.\n",
    "-  Include both unmasked and masked parts to the loss function.\n",
    "\n",
    "The learning rate is so far constant. Those ideal models, like BERT or MAE, use variable learning rate. Perhaps, I should try variable learning rate in the future. The usefull docs are [here](https://pytorch.org/docs/stable/generated/torch.optim.lr_scheduler.SequentialLR.html#torch.optim.lr_scheduler.SequentialLR) and [here](https://pytorch.org/docs/stable/optim.html#how-to-adjust-learning-rate).\n",
    "\n",
    "Let's go for the whole dataset, then!"
   ]
  }
 ],
 "metadata": {
  "kernelspec": {
   "display_name": "Python 3",
   "language": "python",
   "name": "python3"
  },
  "language_info": {
   "codemirror_mode": {
    "name": "ipython",
    "version": 3
   },
   "file_extension": ".py",
   "mimetype": "text/x-python",
   "name": "python",
   "nbconvert_exporter": "python",
   "pygments_lexer": "ipython3",
   "version": "3.11.7"
  }
 },
 "nbformat": 4,
 "nbformat_minor": 2
}
